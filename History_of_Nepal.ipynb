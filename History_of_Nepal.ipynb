{
  "cells": [
    {
      "cell_type": "code",
      "execution_count": null,
      "metadata": {
        "colab": {
          "base_uri": "https://localhost:8080/"
        },
        "id": "GW0KpKYnU0EI",
        "outputId": "c0b32d13-e0a6-45d8-cf6f-ceeb90f93f6a"
      },
      "outputs": [
        {
          "name": "stdout",
          "output_type": "stream",
          "text": [
            "\u001b[31mERROR: pip's dependency resolver does not currently take into account all the packages that are installed. This behaviour is the source of the following dependency conflicts.\n",
            "fastembed 0.2.7 requires huggingface-hub<0.21,>=0.20, but you have huggingface-hub 0.24.5 which is incompatible.\n",
            "transformers 4.42.4 requires tokenizers<0.20,>=0.19, but you have tokenizers 0.15.2 which is incompatible.\u001b[0m\u001b[31m\n",
            "\u001b[0m\u001b[31mERROR: pip's dependency resolver does not currently take into account all the packages that are installed. This behaviour is the source of the following dependency conflicts.\n",
            "fastembed 0.2.7 requires huggingface-hub<0.21,>=0.20, but you have huggingface-hub 0.24.5 which is incompatible.\n",
            "fastembed 0.2.7 requires tokenizers<0.16,>=0.15, but you have tokenizers 0.19.1 which is incompatible.\u001b[0m\u001b[31m\n",
            "\u001b[0m\u001b[31mERROR: pip's dependency resolver does not currently take into account all the packages that are installed. This behaviour is the source of the following dependency conflicts.\n",
            "datasets 2.20.0 requires huggingface-hub>=0.21.2, but you have huggingface-hub 0.20.3 which is incompatible.\n",
            "transformers 4.42.4 requires huggingface-hub<1.0,>=0.23.2, but you have huggingface-hub 0.20.3 which is incompatible.\n",
            "transformers 4.42.4 requires tokenizers<0.20,>=0.19, but you have tokenizers 0.15.2 which is incompatible.\u001b[0m\u001b[31m\n",
            "\u001b[0mRequirement already satisfied: groq in /usr/local/lib/python3.10/dist-packages (0.9.0)\n",
            "Requirement already satisfied: anyio<5,>=3.5.0 in /usr/local/lib/python3.10/dist-packages (from groq) (3.7.1)\n",
            "Requirement already satisfied: distro<2,>=1.7.0 in /usr/lib/python3/dist-packages (from groq) (1.7.0)\n",
            "Requirement already satisfied: httpx<1,>=0.23.0 in /usr/local/lib/python3.10/dist-packages (from groq) (0.27.0)\n",
            "Requirement already satisfied: pydantic<3,>=1.9.0 in /usr/local/lib/python3.10/dist-packages (from groq) (2.8.2)\n",
            "Requirement already satisfied: sniffio in /usr/local/lib/python3.10/dist-packages (from groq) (1.3.1)\n",
            "Requirement already satisfied: typing-extensions<5,>=4.7 in /usr/local/lib/python3.10/dist-packages (from groq) (4.12.2)\n",
            "Requirement already satisfied: idna>=2.8 in /usr/local/lib/python3.10/dist-packages (from anyio<5,>=3.5.0->groq) (3.7)\n",
            "Requirement already satisfied: exceptiongroup in /usr/local/lib/python3.10/dist-packages (from anyio<5,>=3.5.0->groq) (1.2.2)\n",
            "Requirement already satisfied: certifi in /usr/local/lib/python3.10/dist-packages (from httpx<1,>=0.23.0->groq) (2024.7.4)\n",
            "Requirement already satisfied: httpcore==1.* in /usr/local/lib/python3.10/dist-packages (from httpx<1,>=0.23.0->groq) (1.0.5)\n",
            "Requirement already satisfied: h11<0.15,>=0.13 in /usr/local/lib/python3.10/dist-packages (from httpcore==1.*->httpx<1,>=0.23.0->groq) (0.14.0)\n",
            "Requirement already satisfied: annotated-types>=0.4.0 in /usr/local/lib/python3.10/dist-packages (from pydantic<3,>=1.9.0->groq) (0.7.0)\n",
            "Requirement already satisfied: pydantic-core==2.20.1 in /usr/local/lib/python3.10/dist-packages (from pydantic<3,>=1.9.0->groq) (2.20.1)\n"
          ]
        }
      ],
      "source": [
        "!pip -qqq install pip --progress-bar off\n",
        "\n",
        "!pip install -q torch datasets --progress-bar off\n",
        "!pip install -q accelerate peft bitsandbytes trl --progress-bar off\n",
        "\n",
        "!pip -qqq install langchain==0.1.17 --progress-bar off\n",
        "!pip -qqq install llama-parse==0.1.3 --progress-bar off\n",
        "!pip -qqq install qdrant-client==1.9.1  --progress-bar off\n",
        "!pip -qqq install \"unstructured[md]\"==0.13.6 --progress-bar off\n",
        "!pip -qqq install fastembed==0.2.7 --progress-bar off\n",
        "!pip -qqq install flashrank==0.2.4 --progress-bar off\n",
        "!pip install groq --progress-bar off\n",
        "\n",
        "\n"
      ]
    },
    {
      "cell_type": "code",
      "execution_count": null,
      "metadata": {
        "id": "XVlLXBcVY8hf"
      },
      "outputs": [],
      "source": [
        "!pip -qqq install langchain-groq==0.1.3 --progress-bar off"
      ]
    },
    {
      "cell_type": "code",
      "execution_count": null,
      "metadata": {
        "colab": {
          "base_uri": "https://localhost:8080/"
        },
        "id": "5J4QPXreVHPs",
        "outputId": "dac6ac17-440b-4c38-fe64-f9057bb01283"
      },
      "outputs": [
        {
          "name": "stdout",
          "output_type": "stream",
          "text": [
            "Mounted at /content/drive\n"
          ]
        }
      ],
      "source": [
        "\n",
        "import os\n",
        "import textwrap\n",
        "from google.colab import userdata\n",
        "from IPython.display import Markdown\n",
        "from langchain.chains import RetrievalQA\n",
        "from langchain.prompts import PromptTemplate\n",
        "from langchain.retrievers import ContextualCompressionRetriever\n",
        "from langchain.retrievers.document_compressors import FlashrankRerank\n",
        "from langchain.text_splitter import RecursiveCharacterTextSplitter\n",
        "from langchain.vectorstores import Qdrant\n",
        "from langchain_community.document_loaders import UnstructuredMarkdownLoader\n",
        "from langchain_community.embeddings.fastembed import FastEmbedEmbeddings\n",
        "from langchain_core.prompts import ChatPromptTemplate\n",
        "from langchain_groq import ChatGroq\n",
        "from llama_parse import LlamaParse\n",
        "\n",
        "\n",
        "\n",
        "from google.colab import drive\n",
        "drive.mount('/content/drive')\n",
        "\n"
      ]
    },
    {
      "cell_type": "code",
      "execution_count": null,
      "metadata": {
        "id": "i4azFl0XVeRZ"
      },
      "outputs": [],
      "source": [
        "os.environ[\"GROQ_API_KEY\"] = \"\"\n",
        "\n",
        "# def print_response(response):\n",
        "\n",
        "def print_response(response):\n",
        "    response_txt = response[\"result\"]\n",
        "    for chunk in response_txt.split(\"\\n\"):\n",
        "        if not chunk:\n",
        "            print()\n",
        "            continue\n",
        "        print(\"\\n\".join(textwrap.wrap(chunk, 100, break_long_words=False)))\n"
      ]
    },
    {
      "cell_type": "code",
      "execution_count": null,
      "metadata": {
        "colab": {
          "base_uri": "https://localhost:8080/"
        },
        "id": "Hd5SH6lCVopu",
        "outputId": "62200fd3-126b-400a-dfed-1e2500112021"
      },
      "outputs": [
        {
          "name": "stdout",
          "output_type": "stream",
          "text": [
            "Started parsing the file under job_id ea8f69be-6546-46f1-b86f-019fd797fbe8\n",
            "Started parsing the file under job_id 7924d540-33a7-4141-87a7-eda4e530b82a\n",
            "Started parsing the file under job_id 483f33c2-8a37-47b2-92a9-21ed6ecdacd9\n",
            "Started parsing the file under job_id c84e53c3-9c40-45c6-8bce-c68b7d9328c7\n"
          ]
        }
      ],
      "source": [
        "# Updated Document Parsing Instruction\n",
        "instruction = \"\"\"The provided documents collectively offer a comprehensive history of Nepal, spanning key periods, events, dynasties, and cultural developments. These documents include detailed accounts of various ruling periods, such as the Malla era, and the evolution of Nepal's infrastructure, society, and governance.\n",
        "\n",
        "When answering questions based on these documents, please follow these guidelines:\n",
        "- Be precise and concise in your responses.\n",
        "- Ensure that the information is accurate and directly relevant to the question.\n",
        "- When referencing specific periods or events, highlight relevant sections or passages where applicable.\n",
        "- Provide context to your answers when necessary, explaining the implications or importance of specific events or developments.\n",
        "- Maintain a neutral and informative tone, avoiding any personal opinions or interpretations.\n",
        "\n",
        "The goal is to provide clear and informative answers that help the user understand various aspects of Nepal's history.\"\"\"\n",
        "\n",
        "parser = LlamaParse(\n",
        "    api_key = '',\n",
        "    result_type = 'markdown',\n",
        "    parsing_instruction = instruction,\n",
        "    max_timeout = 5000,\n",
        "\n",
        ")\n",
        "documents = [\n",
        "    '/content/drive/My Drive/HistoryofNepal_Daniel.pdf'\n",
        "    # '/content/drive/My Drive/HistoryofNepal.pdf',\n",
        "    # '/content/drive/My Drive/MallaKings.pdf',\n",
        "    # '/content/drive/My Drive/AccountofNepal.pdf'\n",
        "    # '/content/drive/My Drive/Newarculture.pdf'\n",
        "\n",
        "]\n",
        "for document_path in documents:\n",
        "    llama_parse_document = await parser.aload_data(document_path)\n"
      ]
    },
    {
      "cell_type": "code",
      "execution_count": null,
      "metadata": {
        "colab": {
          "base_uri": "https://localhost:8080/",
          "height": 1000
        },
        "id": "MxQq2rwyZigF",
        "outputId": "53d4bac1-783c-480c-8b86-f6aa5a682736"
      },
      "outputs": [
        {
          "data": {
            "text/markdown": [
              "jstor.org.\n",
              "\n",
              "University of California Press and Society of Architectural Historians are collaborating with JSTOR to digitize, preserve and extend access to Journal of the Society of Architectural Historians.\n",
              "\n",
              "STOR: http://www.jstor.org\n",
              "\n",
              "This content downloaded from 128.172.10.194 on Tue, 24 Sep 2013 17:23:50 PMAll use subject to JSTOR Terms and Conditions\n",
              "---\n",
              "# designed to encourage lengthy narrative residents, yet the author does not discuss concerns: architecture’s capacity for establishing and enforcing social identities, and our collective role in questioning that capacity.\n",
              "\n",
              "David Rifkind\n",
              "\n",
              "Florida International University\n",
              "\n",
              "# Niels Gutschow\n",
              "\n",
              "Architecture of the Newars: A History of Building Typologies and Details in Nepal\n",
              "\n",
              "Chicago: Serindia Publications, 2011, 3 vols., 1,030 pp., 1,801 b/w illus. $450, ISBN 9781932476545\n",
              "\n",
              "For a scholar or interested reader of Nepalese cultural and visual history, several classic studies, such as Sylvain Lévy’s Le Népal (1920s), Mary S. Slusser’s Nepal Mandala: A Cultural Study of the Kathmandu Valley (1982), and Robert Levy’s Mesocosm: Hinduism and the Organization of a Traditional Newar City in Nepal (1990), have become indispensable masterworks in the field. Niels Gutschow’s monumental three-volume tome, Architecture of the Newars: A History of Building Typologies and details in Nepal, will certainly follow in the ranks of these publications as a landmark encyclopedic reference work on the forms and typologies of Nepalese architecture. This excellently produced book is indeed the magnum opus of an architectural and cultural historian who has spent an illustrious career of more than forty years on scholarly research into various aspects of Newar architecture in the Kathmandu Valley and beyond. Trained as an architect, Gutschow began his study of Nepalese architecture in 1971 as part of the architectural restoration and survey team under the auspices of the German Research Foundation. Distinctive in his approach to the study of architecture was his extensive research on Newar rituals and their intersections with urban and sacred spaces. His initial survey of an urban ritual of Bhaktapur’s Bisket Jatra began in 1973, and was followed by his first major publication, Stadtraum und Ritual der newarischen Städte im Kathmandu-Tal (1982), which explored Hindu and Buddhist religious architecture analyzed through the metanarratives of sacred space. The documentation of traditional building\n",
              "\n",
              "# At Home with Apartheid\n",
              "\n",
              "Ginsburg, who teaches landscape architecture at the University of Illinois, Urbana-Champaign, also takes note of the social divisions among white South Africans. Far from appearing monolithic in their beliefs, they are shown to have exercised different attitudes toward their domestic servants based on their own experiences, which were rooted in differing ethics formed by class, ethnicity, language, religion, and gender. The homes and servant quarters described by the author manifest the different aspirations and anxieties of the women and men who inhabited them, reflecting the broader social conditions of a nation divided by race, by gender, and by class.\n",
              "\n",
              "The difficulty of bridging two worlds—one rooted in the village life of largely Bantu-speaking people, the other a cosmopolitan realm of global commerce and culture—introduces and concludes At Home with Apartheid. Ginsburg notes the shock experienced by women who migrated from villages (or the black townships established by the government) to Johannesburg, where vastly different streetscapes and residential configurations provoked confusion and anxiety. The author discusses the effects of the reverse migration, when domestic workers returned to their villages and transformed their homes in response to their encounters with the houses and neighborhoods of Johannesburg.\n",
              "\n",
              "Curiously absent from this story are the designers (architects, urban planners, interior designers, and others), as well as the tastemakers, publicists, and propagandists who grappled with the question of how to house middle- and upper-class white South Africans in proximity to black servants while maintaining racial hierarchies through strict codes of spatial segregation. Pathways through the city, such as alleys, streets, and transit networks, were designed to ensure segregation and limited visibility of African\n",
              "\n",
              "J S A H / 7 2 : 3 , S E P T E M B E R 2 0 1 3\n",
              "---\n",
              "techniques as well as characteristic elements of Newar architecture were subsequently published in a coauthored volume, Newar Towns and Buildings: An Illustrated Dictionary of Architectural Terms, Newari-English (1987), and in The Nepalese Caitya (1997), which discusses Buddhist stupa typologies in the Kathmandu Valley.1\n",
              "\n",
              "Gutschow’s extensive field research took shape in the form of photographic documentation and measured black ink drawings of fragments of ancient wooden and stone architectural elements. Architecture of the Newars is richly illustrated with 862 black-and-white photographs taken during the 1970s and 1980s. These are of critical importance as they provide a sense of architecture and the ancient cityscape before the encroachment of urbanization and the current deterioration of many of the historical structures. The value of the book also resides in the 939 meticulous pen-and-ink drawings of architectural details that are rendered to convey the original intended completeness of the architectural forms, rather than the present weathered or fragmentary conditions. Bijay Basukala and his team, whom Gutschow trained, are master draftsmen in capturing the aesthetics of Newar architecture.\n",
              "\n",
              "To situate the present state of scholarship on Nepalese, specifically Newar, art and architecture, it is useful to discuss the circumstances that have shaped the history of scholarship, and the reasons and premises for contemporary interest in certain aspects of Nepalese culture. As a Tibeto-Burman ethnic group that is organized by caste, religion, locality, and dialect, the Newars and Newar society offer a complex dynamic of interesting elements. Contained in a small geographic area of the Kathmandu Valley where Hinduism and Buddhism have coexisted for centuries and have shared numerous cultural and religious practices, the Newar culture has presented to scholars a somewhat peculiar variation of Indic social patterns, one that characterizes South Asian culture as it is presumed to have been before the Muslim advent in India. Whereas the greater South Asian cultural region was subjected to Islamic hegemony from the twelfth through nineteenth centuries and British colonial rule from the nineteenth century to 1947, Nepal is the only Indic cultural region that survived to the present day virtually undisturbed by external forces. Architectural forms, ritual celebrations, and localized Sanskrit texts preserved among the Newars today remain the sole surviving corpus of the Indian originals. In addition, after Buddhism died out in India, the place of its birth, in the twelfth century, the Kathmandu Valley became a critical center from which Buddhism was transported to the northern Himalayas, Mongolia, and China. Further, the itinerant Newar artists of Nepal, renowned for their sophisticated wood carving, metalworking, and painting, influenced the arts of Tibet, China, and Mongolia to such a degree that it is impossible to study the Buddhist art of these regions without knowledge of Newar aesthetics and art.\n",
              "\n",
              "The Architecture of the Newars serves as the first comprehensive study of architectural forms and decorative motifs in the Kathmandu Valley. It presents an exhaustive overview of Hindu and Buddhist architectural typologies as well as secular architecture related to royal patronage in the Kathmandu Valley and the neighboring cities. Gutschow organizes the material in three volumes from the early periods (second century to 1350) to the modern contexts, following a typological and chronological approach. A particularly salient consideration for architectural historians is that the discussions of the monuments fall within overall architectural typologies and are framed within historical developments, rather than set up as strict classifications along the lines of religious affiliation. This wealth of survey data is, however, carefully discussed within the contextual framework of lived spaces and religious metanarratives—an approach, as the author defines it, of an “architectural anthropologist” (8). The result is richly layered and complex analyses, not simply of building types but also of how the structures function within the urban and ritual landscape of the valley.\n",
              "\n",
              "Volume 1 has three parts. Part I, “The Setting,” covers the urban context of Newar architecture and provides the foundation for understanding the constructions of sacred landscapes within the Hindu and Buddhist urban spheres. In this section, the author’s clear preference for the architecture of Bhaktapur is not surprising, given his longtime association and research in that city. Part II explores the early history of the Kathmandu Valley from the second to ninth centuries, specifically the pre-Licchavi and Licchavi periods. Given that extant evidence comprises no more than isolated ancient architectural fragments in the Kathmandu Valley, the author has included a detailed description of the Jokhang Temple of Lhasa, Tibet, as a prototype of early Newar Buddhist architecture in the seventh century. Part III considers the architecture during the transitional period (ninth to fourteenth centuries), exploring the typologies of tiered temples as well as Buddhist monastic architecture. Particularly significant is the discussion of the recent radiocarbon dating of the wooden lintels and strut figures still in situ around the Kathmandu Valley that provide a much earlier date, from the seventh to tenth centuries.\n",
              "\n",
              "The 500-page volume 2 comprises an excellent overview of the typologies of Newar architectural forms produced during the Malla period (1350–1769)—the heyday of Newar cultural and artistic development in the Kathmandu Valley. There are three separate sections: palace architecture in the cities of Bhaktapur, Patan, and Kathmandu; tiered “pagoda” and sikhara temples; and Buddhist monastic architecture. In addition to the detailed plans, elevation renderings, and cross-sectional drawings, this volume examines discrete iconographic programs of the architectural monuments, together with Sanskrit and Newar terminology, thus providing useful references for further research. It would have been even more effective if these discussions were integrated into the historical narrative.\n",
              "\n",
              "As a historical survey of architecture of the Kathmandu Valley, volume 3 focuses on the modern period, specifically the post-Newar architectural building during the Shah and the Rana hegemonies. It examines the continuities of Newar architectural forms after the takeover of the Newar kingdoms in the valley during the Shah dynasty, specifically from 1769 to 1950. The architectural survey of the eighteenth century begins with the palaces of\n",
              "\n",
              "Books 415\n",
              "\n",
              "This content downloaded from 128.172.10.194 on Tue, 24 Sep 2013 17:23:50 PMAll use subject to JSTOR Terms and Conditions\n",
              "---\n",
              "the non-Newar Shah kings in Gorkha and Note prominent architect for much of the seventeenth century. As a revised edition of Hopkins’s monograph Baldassare Longhena, published in Italian by Electa in 2006, the book incorporates the most recent scholarship on Longhena’s work, including many of the author’s own significant contributions to the subject, as well as a rich collection of color and black-and-white illustrations that are new to this edition.\n",
              "\n",
              "The revisions are most significant in chapters 4 and 5, which focus on Longhena’s ecclesiastical works and Venetian palaces, respectively. Although technically a revised edition, this book represents more than an updated translation of Hopkins’s original monograph. Rather, this edition presents new material that changes the tenor and, to a certain degree, the stakes of the book.\n",
              "\n",
              "The book’s first chapter, which is new to the revised edition, provides not only an introduction to Venetian baroque architecture that is intended for audiences less familiar with the architecture of the period, but also an enlightening and provocative discussion of its historiographical fortunes. Tracing the historiography of Venetian baroque architecture from Heinrich Wölfflin to Rudolf Wittkower, Hopkins notes the degree to which Venice provided a stylistic foil within architectural histories that were decidedly centered on the city of Rome. Within these accounts, individual architectural works outside Rome were made to act as mere exemplars of coherent and distinct regional styles. No single building has performed a greater role in substantiating such monolithic stylistic comparisons between Roman and Venetian baroque architecture than the church of S. Maria della Salute. Yet, as Hopkins convincingly argues, this preoccupation with style is ill suited to understanding Longhena’s work, for the Salute is indeed no more representative of the Venetian baroque than it is of Longhena’s varied oeuvre, as works such as S. Maria di Nazareth, better known as the Scalzi, clearly demonstrate. As such, Hopkins calls for a reevaluation of the terms on which scholars should seek to understand Longhena’s work and legacy.\n",
              "\n",
              "Although much of the fog that once covered seventeenth-century architecture outside Rome has since lifted, Hopkins\n",
              "\n",
              "|Andrew Hopkins|Baldassare Longhena and Venetian Baroque Architecture|\n",
              "|---|---|\n",
              "|New Haven, Conn.: Yale University Press, 2012, 356 pp., 62 color and 305 b/w illus.|$85, ISBN 9780300181098|\n",
              "\n",
              "Rising from the waters of the lagoon like a gleaming crown, the votive church of S. Maria della Salute has long provided the point of departure for historical accounts of Venetian baroque architecture. Yet, the church has represented a coda of sorts as well. Begun in 1630 by the architect Baldassare Longhena and brought to completion only a year after his death in 1681, the construction of the Salute spans five decades that witnessed the construction of a host of important projects throughout the city. Nevertheless, the Salute has come to overshadow all else that was built in seventeenth-century Venice, including the numerous projects that Longhena designed and constructed as the spectacular church slowly took shape. In this manner, the Salute has come to define the epoch in which it was built as well as the career of the period’s most prolific architect.\n",
              "\n",
              "Andrew Hopkins’s book Baldassare Longhena and Venetian Baroque Architecture seeks to correct this distortion by providing a more balanced and nuanced discussion of the variegated work for which Longhena was responsible over the course of his long and illustrious career.\n",
              "\n",
              "Drawing from a wealth of graphic and documentary material, this book reevaluates Longhena’s work and legacy while also shedding light on the patrons, collaborators, and social conditions that facilitated his rise and long reign as Venice’s most prominent architect for much of the seventeenth century.\n",
              "\n",
              "As a comprehensive encyclopedic survey, Architecture of the Newars will be an indispensable reference to all scholars working on Nepalese architecture and cultural history. This is not a straightforward inventory of chronological typologies and forms; rather the author navigates the reader through a richly complex, often thick, description of architecture as it functions within lived urban experiences.\n",
              "\n",
              "Gutschow’s survey of the palaces of the Ranas will be particularly salient for architectural historians as a platform for further research. At the end of volume 3, an excursus titled “Architecture as a Stage for Transcultural Flows” provides an informative sidebar on specific figural motifs, such as aerial spirits (vidyadhara and gandharva) and winged dragons.\n",
              "\n",
              "The tastes of this period, evidenced by the neoclassical architecture that still dominates the urban landscape of the Kathmandu Valley, reflect the profound impact of European aesthetics of the mid-nineteenth to early twentieth centuries.\n",
              "\n",
              "The Rana era, which parallels the British Raj in India (1858–1947), is one of the most contentious periods of Nepalese history, when the autocratic Rana family single-handedly controlled the nation in the manner of a medieval fiefdom. With the Anglo-Nepal War with the British (1814–16), Nepal established a strict policy of isolationism, closing its borders to the outside world until 1951 for fear of colonial encroachment. At the same time, the Ranas were fascinated with the West and consciously emulated European aesthetics, although they strongly adhered to traditionalism in their Hindu sociocultural mores so that they saw themselves as equals, not subordinates, to the foreign powers."
            ],
            "text/plain": [
              "<IPython.core.display.Markdown object>"
            ]
          },
          "execution_count": 11,
          "metadata": {},
          "output_type": "execute_result"
        }
      ],
      "source": [
        "\n",
        "parsed_doc = llama_parse_document[0]\n",
        "Markdown(parsed_doc.text[1000:])"
      ]
    },
    {
      "cell_type": "code",
      "execution_count": null,
      "metadata": {
        "id": "ChpLAQwZZ2DW"
      },
      "outputs": [],
      "source": [
        "\n",
        "from pathlib import Path\n",
        "\n",
        "document_path = Path('/content/drive/MyDrive/HistoryofNepal/parsed_document.md')\n",
        "with document_path.open('a') as f:\n",
        "    f.write(parsed_doc.text)\n",
        "\n"
      ]
    },
    {
      "cell_type": "markdown",
      "metadata": {
        "id": "aBP8aGUjaHCX"
      },
      "source": [
        "### Vector embeddings"
      ]
    },
    {
      "cell_type": "code",
      "execution_count": null,
      "metadata": {
        "colab": {
          "base_uri": "https://localhost:8080/"
        },
        "id": "IbqrstvhaFQV",
        "outputId": "4fbdc7c1-0b65-419d-8e6e-935821e4be55"
      },
      "outputs": [
        {
          "name": "stderr",
          "output_type": "stream",
          "text": [
            "[nltk_data] Downloading package averaged_perceptron_tagger to\n",
            "[nltk_data]     /root/nltk_data...\n",
            "[nltk_data]   Unzipping taggers/averaged_perceptron_tagger.zip.\n"
          ]
        }
      ],
      "source": [
        "loader = UnstructuredMarkdownLoader(document_path)\n",
        "loaded_documents = loader.load()"
      ]
    },
    {
      "cell_type": "code",
      "execution_count": null,
      "metadata": {
        "colab": {
          "base_uri": "https://localhost:8080/"
        },
        "id": "4TlYigOyaW6K",
        "outputId": "94384872-75ec-4f2c-c0df-5a1a35208660"
      },
      "outputs": [
        {
          "name": "stdout",
          "output_type": "stream",
          "text": [
            "The control of resources: land, trade and manpower - 26\n",
            "\n",
            "Social structure - 28\n",
            "\n",
            "2. Unification and sanskritisation, 1743–1885\n",
            "\n",
            "The Gorkhali conquests: expansion and aftermath - 35\n",
            "\n",
            "The establishment of the Rana regime - 46\n",
            "\n",
            "State and society - 49\n",
            "\n",
            "Questions of identity - 55\n",
            "\n",
            "3. Nepal under the Shamsher Ranas, 1885–1951\n",
            "\n",
            "From Bir to Bhim: the high tide of Rana rule - 61\n",
            "\n",
            "From Juddha to Mohan: the last years of the old regime - 65\n",
            "\n",
            "Economy, people and government - 73\n",
            "\n",
            "New gods and old - 79\n",
            "\n",
            "Contents\n",
            "\n",
            "4 The monarchy in ascendance: domestic politics and foreign relations, 1951–1991 86 The first multi-party experiment: 1951–1960 87 The monarchy in full control: 1961–1979 99 The system under challenge: 1979–1988 107 The ‘People’s Movement’ and the restoration of democracy: 1989–1991 113 5 The quest for ‘development’: economy and environment, 1951–1991 122 Population movements 122 Planned development and foreign aid 125 Development achievements and failures 137 Foreign trade and the diversification issue 150 6 Lifestyles, values, identities: changes in Nepalese society, 1951–1991 154 Town and country 154 The expansion of education 164 Modern media 169 Ideology and political culture 173 Ethnicity and nationalism 178 7 Democracy and disillusionment: Nepal since 1991 189 Parties and policies, 1991–1999 189 The rise of the ultra-left 202 A deepening crisis: 1999–2003 208 The future of Nepalese society 225\n",
            "\n",
            "Genealogical tables\n",
            "\n",
            "The Shah dynasty 236 The Rana (Kunwar) family 237\n",
            "\n",
            "Biographical notes - 238\n",
            "\n",
            "Notes - 252\n",
            "\n",
            "Glossary - 259\n",
            "\n",
            "Bibliography - 268\n",
            "\n",
            "Index - 283\n",
            "\n",
            "Key events\n",
            "\n",
            "BC 130,000? Hand-axe man in Dang and Satpati c. 1700? Beginning of Indo-Aryan movement into the Indian subcontinent c. 400? Birth of the Buddha at Lumbini\n"
          ]
        }
      ],
      "source": [
        "text_splitter = RecursiveCharacterTextSplitter(chunk_size = 2048, chunk_overlap = 128)\n",
        "documents = text_splitter.split_documents(loaded_documents)\n",
        "print(documents[2].page_content)"
      ]
    },
    {
      "cell_type": "code",
      "execution_count": null,
      "metadata": {
        "id": "3PuqaRyTbNhB"
      },
      "outputs": [],
      "source": []
    },
    {
      "cell_type": "code",
      "execution_count": null,
      "metadata": {
        "colab": {
          "base_uri": "https://localhost:8080/",
          "height": 209,
          "referenced_widgets": [
            "5673da9cf2ca4a4f96338c9f70f98bc1",
            "4ba61b41ee81486cb9c2aa06be1095b0",
            "afd2cc12e4fd476993ff3db1b41615e5",
            "907799010cf14f19880c3886a7a6fb91",
            "89a0cd23ab9a49e988ff7bd47c5bca12",
            "6561e5dfca3a4b9f9770459e9d64975f",
            "dcb80c2deb694ff6b37c40d2022c69e4",
            "4880c7df75614c959e7b887326c5b191",
            "c610ab1a73cf4f86ac07b43ce90aa9dc",
            "a4d48988b7e24114a4621e0b171404c9",
            "e3dd4e886eee41dcbfc26f9c06b7015c",
            "955055533fda4f64b612935ad88d2177",
            "6ddaddfbeded44ebb94f1760cff53621",
            "07e932429b914c31af16e2cf716871bc",
            "373e13a6155b40a1a200db9a0d2fe39b",
            "0449ddf75f5f428bbb104a9aeeb9d9da",
            "4dd9f4bdf1e14339916cd1e81a81af84",
            "f314f28ac3e142f0b8336c9bf4c24912",
            "8e99b4b5f9cf4bbebe3302883bcae848",
            "cba426ba891443d3bbae64a0b8bc5eee",
            "df207be402694bcf84f093c1b060932a",
            "c2e0930f54d24fa3bd67df51f197eb3e",
            "d2c9e035f84a45b9ad0a617ae40d4edb",
            "c32d6c6d82a146a0b32584e5ed0bcae8",
            "663fa47f6a1b4cda8c0b9fe1f79ce1e7",
            "aefe8b83a1fa453496cbb522f0dc6fc2",
            "6749112523564e379c353da1c0a2bc9c",
            "4a957980b8af4fa2a2c58ad4ef830d2f",
            "c0ebe9d5fc954502bf384a5e83b73e5b",
            "d5fb57994c494b5795e4df131533480f",
            "9f18bc551a7d46b6aa102ebcff258deb",
            "067c788620914f739ad1265ff5b5c5d7",
            "6f157aea63a746e5b2ff906d3e823aa5",
            "b1e339c891b24a73b775681046c35e26",
            "fbecbf892afd4f0a9ee909cb6cba9ec9",
            "06b8ba3f3ea444d9a99edd827ecb5f6f",
            "5317276f76cc4d568adc39c10bfa8f98",
            "720dfac202ba4c509dfc8a7a9a5e8f1d",
            "1a37750dd06f40f389523b71fbdff02e",
            "8fae7656f5fd48dd806eec86af635b72",
            "3658790c195e44caafab30afc531f952",
            "3062fdd0ed1a4fbabb877b5113d5bf85",
            "7e90b2a934f7417b85d7a4255208c21c",
            "ce7ad24277c44e03ad4b8f16f210bc2d",
            "3d654415aea24e90bb5a0a18e0563ec4",
            "ea39d173403d4c4a88939dea56b81a11",
            "c59c7533a32b49e8ae417a7ec3690fe5",
            "45b25c21193d4bcc8a7715ffa13e23a2",
            "4ee9b216ad7244ad89a93d0288674fca",
            "8a61bb0dd0a1479f803be59ee57f0de8",
            "03e8b5b47cd74c528706ba9e5363c09e",
            "e4b4fd0edea14352b822befd65c74f89",
            "ee2cc741b01b4f0689300f925fbab904",
            "2bbe7df1a6084b0c9a649a2236c6f23d",
            "7a75debf339048a3bbd617e7041338b9",
            "9e1323d796764cd8a8f9f36707efd176",
            "2f8f88c22f8245d99afdb701ddea809e",
            "1597bfd63c8f480bb634fd6d63b9877a",
            "6b1332ca7da44d4aae5fe3e4248b092d",
            "87961a8065644a98bfa08b8481186207",
            "286ae8c6ba83475fbbece0f192215246",
            "78942167beaa489f97fab7f61a95cebd",
            "01415766f84649089c36a4d98ac06809",
            "79d05ab16e6b4637928410af7b23fcf5",
            "0c665c1962a34e9f85fd465c5f11ba0f",
            "7f468a964cfe423d82e57550b919b2d1"
          ]
        },
        "id": "uyRxFQ6uaza4",
        "outputId": "7e3cd079-2644-48b4-fd60-9b035bef086d"
      },
      "outputs": [
        {
          "data": {
            "application/vnd.jupyter.widget-view+json": {
              "model_id": "5673da9cf2ca4a4f96338c9f70f98bc1",
              "version_major": 2,
              "version_minor": 0
            },
            "text/plain": [
              "Fetching 5 files:   0%|          | 0/5 [00:00<?, ?it/s]"
            ]
          },
          "metadata": {},
          "output_type": "display_data"
        },
        {
          "data": {
            "application/vnd.jupyter.widget-view+json": {
              "model_id": "955055533fda4f64b612935ad88d2177",
              "version_major": 2,
              "version_minor": 0
            },
            "text/plain": [
              "tokenizer.json:   0%|          | 0.00/711k [00:00<?, ?B/s]"
            ]
          },
          "metadata": {},
          "output_type": "display_data"
        },
        {
          "data": {
            "application/vnd.jupyter.widget-view+json": {
              "model_id": "d2c9e035f84a45b9ad0a617ae40d4edb",
              "version_major": 2,
              "version_minor": 0
            },
            "text/plain": [
              "config.json:   0%|          | 0.00/740 [00:00<?, ?B/s]"
            ]
          },
          "metadata": {},
          "output_type": "display_data"
        },
        {
          "data": {
            "application/vnd.jupyter.widget-view+json": {
              "model_id": "b1e339c891b24a73b775681046c35e26",
              "version_major": 2,
              "version_minor": 0
            },
            "text/plain": [
              "special_tokens_map.json:   0%|          | 0.00/695 [00:00<?, ?B/s]"
            ]
          },
          "metadata": {},
          "output_type": "display_data"
        },
        {
          "data": {
            "application/vnd.jupyter.widget-view+json": {
              "model_id": "3d654415aea24e90bb5a0a18e0563ec4",
              "version_major": 2,
              "version_minor": 0
            },
            "text/plain": [
              "tokenizer_config.json:   0%|          | 0.00/1.24k [00:00<?, ?B/s]"
            ]
          },
          "metadata": {},
          "output_type": "display_data"
        },
        {
          "data": {
            "application/vnd.jupyter.widget-view+json": {
              "model_id": "9e1323d796764cd8a8f9f36707efd176",
              "version_major": 2,
              "version_minor": 0
            },
            "text/plain": [
              "model_optimized.onnx:   0%|          | 0.00/218M [00:00<?, ?B/s]"
            ]
          },
          "metadata": {},
          "output_type": "display_data"
        }
      ],
      "source": [
        "embeddings = FastEmbedEmbeddings(model_name = \"BAAI/bge-base-en-v1.5\")\n",
        "qdrant = Qdrant.from_documents(documents,\n",
        "                               embeddings,\n",
        "                               path = '/content/drive/MyDrive/HistoryofNepal/qdrant_db',\n",
        "                               collection_name = 'History0fNepal_embeddings'\n",
        "                               )"
      ]
    },
    {
      "cell_type": "markdown",
      "metadata": {
        "id": "yDTCFArShUE_"
      },
      "source": [
        "# perform dense retrieval using qdrant"
      ]
    },
    {
      "cell_type": "code",
      "execution_count": null,
      "metadata": {
        "colab": {
          "base_uri": "https://localhost:8080/"
        },
        "id": "wyou3ST2brp9",
        "outputId": "95c9cf37-cc93-4384-cb88-b357c8e4bdb6"
      },
      "outputs": [
        {
          "name": "stdout",
          "output_type": "stream",
          "text": [
            "CPU times: user 303 ms, sys: 1 ms, total: 304 ms\n",
            "Wall time: 304 ms\n"
          ]
        }
      ],
      "source": [
        "%%time\n",
        "\n",
        "query = \"Who were Malla?\"\n",
        "similar_docs = qdrant.similarity_search_with_score(query)"
      ]
    },
    {
      "cell_type": "code",
      "execution_count": null,
      "metadata": {
        "colab": {
          "base_uri": "https://localhost:8080/"
        },
        "id": "n72KBqGRcKnY",
        "outputId": "141ec2c6-75e8-4110-90bd-ccab0c7cd2cc"
      },
      "outputs": [
        {
          "name": "stdout",
          "output_type": "stream",
          "text": [
            "text: On top of the lack of unity between the city-states, Jaya Prakash Malla was also engaged in a constant battle to maintain his own control over Kathmandu. He had always been unpopular with his Khasa officers, and in 1746 his execution of one of them for fai\n",
            "\n",
            "score: 0.6375889124903639\n",
            "________________________________________________________________________________\n",
            "\n",
            "text: On top of the lack of unity between the city-states, Jaya Prakash Malla was also engaged in a constant battle to maintain his own control over Kathmandu. He had always been unpopular with his Khasa officers, and in 1746 his execution of one of them for fai\n",
            "\n",
            "score: 0.6375889124903639\n",
            "________________________________________________________________________________\n",
            "\n",
            "text: On top of the lack of unity between the city-states, Jaya Prakash Malla was also engaged in a constant battle to maintain his own control over Kathmandu. He had always been unpopular with his Khasa officers, and in 1746 his execution of one of them for fai\n",
            "\n",
            "score: 0.6375889124903639\n",
            "________________________________________________________________________________\n",
            "\n",
            "text: On top of the lack of unity between the city-states, Jaya Prakash Malla was also engaged in a constant battle to maintain his own control over Kathmandu. He had always been unpopular with his Khasa officers, and in 1746 his execution of one of them for fai\n",
            "\n",
            "score: 0.6375889124903639\n",
            "________________________________________________________________________________\n",
            "\n"
          ]
        }
      ],
      "source": [
        "for doc, score in similar_docs:\n",
        "    print(f\"text: {doc.page_content[:256]}\\n\")\n",
        "    print(f\"score: {score}\")\n",
        "    print(\"_\" * 80)\n",
        "    print()\n"
      ]
    },
    {
      "cell_type": "code",
      "execution_count": null,
      "metadata": {
        "colab": {
          "base_uri": "https://localhost:8080/"
        },
        "id": "OV_JswnGflTH",
        "outputId": "4cdb9af6-a55a-4182-d4c8-7d661e41d36b"
      },
      "outputs": [
        {
          "name": "stdout",
          "output_type": "stream",
          "text": [
            "CPU times: user 454 ms, sys: 2.97 ms, total: 456 ms\n",
            "Wall time: 482 ms\n"
          ]
        }
      ],
      "source": [
        "%%time\n",
        "retriever = qdrant.as_retriever(search_kwargs = {\"k\": 5})\n",
        "retrieved_docs = retriever.invoke(query)\n"
      ]
    },
    {
      "cell_type": "code",
      "execution_count": null,
      "metadata": {
        "colab": {
          "base_uri": "https://localhost:8080/"
        },
        "id": "aL42PO0rflsd",
        "outputId": "c4683456-f869-41ab-8bde-3153fc720aea"
      },
      "outputs": [
        {
          "name": "stdout",
          "output_type": "stream",
          "text": [
            "id: 40073fee82e94e6fa5e59b22da43b0a6\n",
            "\n",
            "text: On top of the lack of unity between the city-states, Jaya Prakash Malla was also engaged in a constant battle to maintain his own control over Kathmandu. He had always been unpopular with his Khasa officers, and in 1746 his execution of one of them for fai\n",
            "________________________________________________________________________________\n",
            "\n",
            "id: 6bff5bcdaca9446dbfefed4cebff17f8\n",
            "\n",
            "text: On top of the lack of unity between the city-states, Jaya Prakash Malla was also engaged in a constant battle to maintain his own control over Kathmandu. He had always been unpopular with his Khasa officers, and in 1746 his execution of one of them for fai\n",
            "________________________________________________________________________________\n",
            "\n",
            "id: 1428702fe3f74d7a9432521e6da20f9c\n",
            "\n",
            "text: On top of the lack of unity between the city-states, Jaya Prakash Malla was also engaged in a constant battle to maintain his own control over Kathmandu. He had always been unpopular with his Khasa officers, and in 1746 his execution of one of them for fai\n",
            "________________________________________________________________________________\n",
            "\n",
            "id: 0cfa1c0eb43a44c4b4de87df6f9f2dcc\n",
            "\n",
            "text: On top of the lack of unity between the city-states, Jaya Prakash Malla was also engaged in a constant battle to maintain his own control over Kathmandu. He had always been unpopular with his Khasa officers, and in 1746 his execution of one of them for fai\n",
            "________________________________________________________________________________\n",
            "\n",
            "id: 7083667ef9fe4875a7921a1fcc13139e\n",
            "\n",
            "text: A History of Nepal\n",
            "\n",
            "20\n",
            "A statue of Garuda, the mythical man-bird who carried the god Vishnu. The face may be that of Manadeva, the Licchavi ruler whose inscription of 465 AD begins the recorded history of the Kathmandu Valley.\n",
            "\n",
            "Environment, state and socie\n",
            "________________________________________________________________________________\n",
            "\n"
          ]
        }
      ],
      "source": [
        "\n",
        "for doc in retrieved_docs:\n",
        "  print(f\"id: {doc.metadata['_id']}\\n\")\n",
        "  print(f\"text: {doc.page_content[:256]}\")\n",
        "  print(\"_\" * 80)\n",
        "  print()\n"
      ]
    },
    {
      "cell_type": "code",
      "execution_count": null,
      "metadata": {
        "id": "5kglU6DKheVQ"
      },
      "outputs": [],
      "source": []
    },
    {
      "cell_type": "code",
      "execution_count": null,
      "metadata": {
        "colab": {
          "base_uri": "https://localhost:8080/"
        },
        "id": "wXDyMK_MfygC",
        "outputId": "8b9a498a-b658-4868-c96e-039d608c26c6"
      },
      "outputs": [
        {
          "name": "stdout",
          "output_type": "stream",
          "text": [
            "Downloading ms-marco-MiniLM-L-12-v2...\n"
          ]
        },
        {
          "name": "stderr",
          "output_type": "stream",
          "text": [
            "ms-marco-MiniLM-L-12-v2.zip: 100%|██████████| 21.6M/21.6M [00:00<00:00, 83.8MiB/s]\n"
          ]
        }
      ],
      "source": [
        "# Rerank and compress\n",
        "compressor = FlashrankRerank(model = 'ms-marco-MiniLM-L-12-v2')\n",
        "compression_retriever = ContextualCompressionRetriever(\n",
        "    base_compressor = compressor,\n",
        "    base_retriever = retriever)"
      ]
    },
    {
      "cell_type": "code",
      "execution_count": null,
      "metadata": {
        "colab": {
          "base_uri": "https://localhost:8080/"
        },
        "id": "X7wPeXemfy-c",
        "outputId": "f798b11b-48a4-4aec-e2e7-2096c4e26ed8"
      },
      "outputs": [
        {
          "name": "stdout",
          "output_type": "stream",
          "text": [
            "CPU times: user 4 µs, sys: 0 ns, total: 4 µs\n",
            "Wall time: 6.68 µs\n",
            "Running pairwise ranking..\n"
          ]
        },
        {
          "data": {
            "text/plain": [
              "3"
            ]
          },
          "execution_count": 26,
          "metadata": {},
          "output_type": "execute_result"
        }
      ],
      "source": [
        "%time\n",
        "reranked_docs = compression_retriever.invoke(query)\n",
        "len(reranked_docs)"
      ]
    },
    {
      "cell_type": "code",
      "execution_count": null,
      "metadata": {
        "colab": {
          "base_uri": "https://localhost:8080/"
        },
        "id": "tAHp0XuYf1pB",
        "outputId": "a0f51d8b-5322-4445-e994-c79b79a204f6"
      },
      "outputs": [
        {
          "name": "stdout",
          "output_type": "stream",
          "text": [
            "id: 7083667ef9fe4875a7921a1fcc13139e\n",
            "\n",
            "text: A History of Nepal\n",
            "\n",
            "20\n",
            "A statue of Garuda, the mythical man-bird who carried the god Vishnu. The face may be that of Manadeva, the Licchavi ruler whose inscription of 465 AD begins the recorded history of the Kathmandu Valley.\n",
            "\n",
            "Environment, state and socie\n",
            "\n",
            "score: 0.9473506808280945\n",
            "--------------------------------------------------------------------------------\n",
            "\n",
            "id: 40073fee82e94e6fa5e59b22da43b0a6\n",
            "\n",
            "text: On top of the lack of unity between the city-states, Jaya Prakash Malla was also engaged in a constant battle to maintain his own control over Kathmandu. He had always been unpopular with his Khasa officers, and in 1746 his execution of one of them for fai\n",
            "\n",
            "score: 0.910471498966217\n",
            "--------------------------------------------------------------------------------\n",
            "\n",
            "id: 6bff5bcdaca9446dbfefed4cebff17f8\n",
            "\n",
            "text: On top of the lack of unity between the city-states, Jaya Prakash Malla was also engaged in a constant battle to maintain his own control over Kathmandu. He had always been unpopular with his Khasa officers, and in 1746 his execution of one of them for fai\n",
            "\n",
            "score: 0.910471498966217\n",
            "--------------------------------------------------------------------------------\n",
            "\n"
          ]
        }
      ],
      "source": [
        "for doc in reranked_docs:\n",
        "    print(f\"id: {doc.metadata['_id']}\\n\")\n",
        "    print(f\"text: {doc.page_content[:256]}\\n\")\n",
        "    print(f\"score: {doc.metadata['relevance_score']}\")\n",
        "    print(\"-\" * 80)\n",
        "    print()\n"
      ]
    },
    {
      "cell_type": "code",
      "execution_count": null,
      "metadata": {
        "id": "u3fIr554f4HR"
      },
      "outputs": [],
      "source": [
        "llm = ChatGroq(temperature = 0, model = 'mixtral-8x7b-32768')\n"
      ]
    },
    {
      "cell_type": "code",
      "execution_count": null,
      "metadata": {
        "id": "2Z2yqgxogqkr"
      },
      "outputs": [],
      "source": [
        "prompt_template = \"\"\"\n",
        "Use the following pieces of information to answer the user's question.\n",
        "If you don't know the answer, just say that you don't know, don't try to make up an answer.\n",
        "\n",
        "Context: {context}\n",
        "Question: {question}\n",
        "\n",
        "Answer the question and provide additional helpful information,\n",
        "based on the pieces of information, if applicable. Be succinct.\n",
        "\n",
        "Responses should be properly formatted to be easily read.\n",
        "\"\"\"\n"
      ]
    },
    {
      "cell_type": "code",
      "execution_count": null,
      "metadata": {
        "id": "U3S6jCRGf2_d"
      },
      "outputs": [],
      "source": [
        "prompt = PromptTemplate(template = prompt_template,\n",
        "                        input_variables = ['context' , 'question'] )\n"
      ]
    },
    {
      "cell_type": "code",
      "execution_count": null,
      "metadata": {
        "id": "XzvAuFCpg5m3"
      },
      "outputs": [],
      "source": [
        "qa = RetrievalQA.from_chain_type(llm = llm,\n",
        "                                chain_type = 'stuff',\n",
        "                                retriever = compression_retriever,\n",
        "                                chain_type_kwargs = {'prompt': prompt, \"verbose\": False})"
      ]
    },
    {
      "cell_type": "code",
      "execution_count": null,
      "metadata": {
        "colab": {
          "base_uri": "https://localhost:8080/"
        },
        "id": "dz3XINMlhEcZ",
        "outputId": "4711cbca-0cd8-42b5-d890-49bc0a435f70"
      },
      "outputs": [
        {
          "name": "stdout",
          "output_type": "stream",
          "text": [
            "Running pairwise ranking..\n",
            "CPU times: user 1.69 s, sys: 112 ms, total: 1.81 s\n",
            "Wall time: 2.17 s\n"
          ]
        }
      ],
      "source": [
        "%%time\n",
        "response = qa.invoke(\"Where is Nepal?\")\n"
      ]
    },
    {
      "cell_type": "markdown",
      "metadata": {
        "id": "LQP2-JNYow-v"
      },
      "source": []
    },
    {
      "cell_type": "code",
      "execution_count": null,
      "metadata": {
        "colab": {
          "base_uri": "https://localhost:8080/"
        },
        "id": "e1ScQssihL8X",
        "outputId": "4fa73d89-9003-4aca-874b-c1d3692ee3fa"
      },
      "outputs": [
        {
          "name": "stdout",
          "output_type": "stream",
          "text": [
            "Nepal is a country located in South Asia, east of the line between Delhi and Cape Comorin. It is\n",
            "bound particularly closely to the rest of the region, and particularly to adjoining areas of India\n",
            "such as Bihar. Nepal faces challenges such as poverty, casteism, and corruption, which are common in\n",
            "South Asia and are particularly acute in Nepal. The country's political relationship with India has\n",
            "historically been complex, with political opposition factions often criticizing India while those in\n",
            "power seek closer ties. Despite this, India is unlikely to take on full responsibility for Nepal's\n",
            "problems, and Nepal's formal independence is expected to continue. However, the strength of Nepal's\n",
            "independence in reality may vary.\n",
            "\n",
            "For more information about specific individuals, events, or ethnic groups in Nepal's history, please\n",
            "refer to the 'Key events' and 'Biographical notes' sections of \"A History of Nepal.\"\n"
          ]
        }
      ],
      "source": [
        "\n",
        "print_response(response)\n"
      ]
    },
    {
      "cell_type": "code",
      "execution_count": null,
      "metadata": {
        "colab": {
          "base_uri": "https://localhost:8080/"
        },
        "id": "bTPjxwh4o4hq",
        "outputId": "623aa5c2-cf12-4c06-9151-da76dd79b7d3"
      },
      "outputs": [
        {
          "name": "stdout",
          "output_type": "stream",
          "text": [
            "Running pairwise ranking..\n",
            "CPU times: user 2.91 s, sys: 42.8 ms, total: 2.95 s\n",
            "Wall time: 3.6 s\n"
          ]
        }
      ],
      "source": [
        "%%time\n",
        "response = qa.invoke(\"Where did the name of Nepal came from?\")"
      ]
    },
    {
      "cell_type": "code",
      "execution_count": null,
      "metadata": {
        "colab": {
          "base_uri": "https://localhost:8080/"
        },
        "id": "M9KjnnYPo__b",
        "outputId": "068896f5-1abc-416b-8547-9ea30a5cfc86"
      },
      "outputs": [
        {
          "name": "stdout",
          "output_type": "stream",
          "text": [
            "The name \"Nepal\" is believed to have originated from the Sino-Tibetan language group, specifically\n",
            "from the term \"Nepa,\" which means \"home of the winds\" in the ancient Tibetan language. This is\n",
            "consistent with the geographical location of Nepal, known for its mountain ranges and windy\n",
            "conditions.\n",
            "\n",
            "Additionally, the name \"Nepal\" was first mentioned in texts around the 6th century, and it was used\n",
            "to refer to the valley where the capital city, Kathmandu, is now located. Over time, the name\n",
            "expanded to encompass the entire country.\n",
            "\n",
            "It's worth noting that Nepal is home to a diverse range of linguistic groups, including Tibeto-\n",
            "Burman, Munda, and Dravidian. The predominant language spoken in Nepal today is Nepali, which is\n",
            "part of the Indo-European language family.\n"
          ]
        }
      ],
      "source": [
        "\n",
        "print_response(response)"
      ]
    },
    {
      "cell_type": "code",
      "execution_count": null,
      "metadata": {
        "colab": {
          "base_uri": "https://localhost:8080/"
        },
        "id": "3rsmZxVcpCIK",
        "outputId": "33e9d55e-834b-4fa6-b5eb-a243c4e32459"
      },
      "outputs": [
        {
          "name": "stdout",
          "output_type": "stream",
          "text": [
            "Running pairwise ranking..\n",
            "CPU times: user 1.42 s, sys: 109 ms, total: 1.53 s\n",
            "Wall time: 1.9 s\n"
          ]
        }
      ],
      "source": [
        "%%time\n",
        "response = qa.invoke(\"How is prithvi Narayan Shah?\")"
      ]
    },
    {
      "cell_type": "code",
      "execution_count": null,
      "metadata": {
        "colab": {
          "base_uri": "https://localhost:8080/"
        },
        "id": "tkPfZ-jjpI2i",
        "outputId": "100515b9-048a-4298-a5a1-8e8a692bb4e1"
      },
      "outputs": [
        {
          "name": "stdout",
          "output_type": "stream",
          "text": [
            "Prithvi Narayan Shah is known as the crucial figure in the unification and expansion of Nepal. He\n",
            "was the king of Gorkha who fought continuously from his accession in 1743 to realize his ambition of\n",
            "expanding his kingdom. He successfully entered Kathmandu in 1768 and captured Bhaktapur the\n",
            "following November. By the time of his death in 1775, he had occupied all of eastern Nepal and much\n",
            "of modern Sikkim. The determined look of Prithvi Narayan Shah is immortalized in the statue outside\n",
            "the Government Secretariat in Kathmandu.\n"
          ]
        }
      ],
      "source": [
        "\n",
        "print_response(response)"
      ]
    },
    {
      "cell_type": "code",
      "execution_count": null,
      "metadata": {
        "colab": {
          "base_uri": "https://localhost:8080/"
        },
        "id": "_67Zz1g_pKIm",
        "outputId": "d7d0db93-6110-4b6a-cf89-1fe99ffb6e15"
      },
      "outputs": [
        {
          "name": "stdout",
          "output_type": "stream",
          "text": [
            "Running pairwise ranking..\n",
            "CPU times: user 2.84 s, sys: 108 ms, total: 2.95 s\n",
            "Wall time: 3.41 s\n"
          ]
        }
      ],
      "source": [
        "%%time\n",
        "response = qa.invoke(\"Who are Mallas?\")"
      ]
    },
    {
      "cell_type": "code",
      "execution_count": null,
      "metadata": {
        "colab": {
          "base_uri": "https://localhost:8080/"
        },
        "id": "FNDy7acXph7T",
        "outputId": "e514b29e-0002-4659-f582-97f0e9368b1c"
      },
      "outputs": [
        {
          "name": "stdout",
          "output_type": "stream",
          "text": [
            "The Mallas were the rulers of the Kathmandu valley, constantly battling to maintain their control\n",
            "over the city-state of Kathmandu. They were engaged in a power struggle with their own officers, who\n",
            "were unhappy with Jaya Prakash Malla's rule. The Mallas also faced opposition from Prithvi Narayan\n",
            "Shah, who was expanding his territory through conquest. Despite receiving help from India in 1763\n",
            "and 1767, the Mallas were unable to defeat the Gorkhalis and eventually lost control of Kathmandu.\n"
          ]
        }
      ],
      "source": [
        "\n",
        "print_response(response)"
      ]
    },
    {
      "cell_type": "code",
      "execution_count": null,
      "metadata": {
        "id": "KJTgnNFppjLs"
      },
      "outputs": [],
      "source": []
    }
  ],
  "metadata": {
    "colab": {
      "provenance": []
    },
    "kernelspec": {
      "display_name": "Python 3",
      "name": "python3"
    },
    "language_info": {
      "name": "python"
    },
    "widgets": {
      "application/vnd.jupyter.widget-state+json": {
        "01415766f84649089c36a4d98ac06809": {
          "model_module": "@jupyter-widgets/base",
          "model_module_version": "1.2.0",
          "model_name": "LayoutModel",
          "state": {
            "_model_module": "@jupyter-widgets/base",
            "_model_module_version": "1.2.0",
            "_model_name": "LayoutModel",
            "_view_count": null,
            "_view_module": "@jupyter-widgets/base",
            "_view_module_version": "1.2.0",
            "_view_name": "LayoutView",
            "align_content": null,
            "align_items": null,
            "align_self": null,
            "border": null,
            "bottom": null,
            "display": null,
            "flex": null,
            "flex_flow": null,
            "grid_area": null,
            "grid_auto_columns": null,
            "grid_auto_flow": null,
            "grid_auto_rows": null,
            "grid_column": null,
            "grid_gap": null,
            "grid_row": null,
            "grid_template_areas": null,
            "grid_template_columns": null,
            "grid_template_rows": null,
            "height": null,
            "justify_content": null,
            "justify_items": null,
            "left": null,
            "margin": null,
            "max_height": null,
            "max_width": null,
            "min_height": null,
            "min_width": null,
            "object_fit": null,
            "object_position": null,
            "order": null,
            "overflow": null,
            "overflow_x": null,
            "overflow_y": null,
            "padding": null,
            "right": null,
            "top": null,
            "visibility": null,
            "width": null
          }
        },
        "03e8b5b47cd74c528706ba9e5363c09e": {
          "model_module": "@jupyter-widgets/controls",
          "model_module_version": "1.5.0",
          "model_name": "DescriptionStyleModel",
          "state": {
            "_model_module": "@jupyter-widgets/controls",
            "_model_module_version": "1.5.0",
            "_model_name": "DescriptionStyleModel",
            "_view_count": null,
            "_view_module": "@jupyter-widgets/base",
            "_view_module_version": "1.2.0",
            "_view_name": "StyleView",
            "description_width": ""
          }
        },
        "0449ddf75f5f428bbb104a9aeeb9d9da": {
          "model_module": "@jupyter-widgets/base",
          "model_module_version": "1.2.0",
          "model_name": "LayoutModel",
          "state": {
            "_model_module": "@jupyter-widgets/base",
            "_model_module_version": "1.2.0",
            "_model_name": "LayoutModel",
            "_view_count": null,
            "_view_module": "@jupyter-widgets/base",
            "_view_module_version": "1.2.0",
            "_view_name": "LayoutView",
            "align_content": null,
            "align_items": null,
            "align_self": null,
            "border": null,
            "bottom": null,
            "display": null,
            "flex": null,
            "flex_flow": null,
            "grid_area": null,
            "grid_auto_columns": null,
            "grid_auto_flow": null,
            "grid_auto_rows": null,
            "grid_column": null,
            "grid_gap": null,
            "grid_row": null,
            "grid_template_areas": null,
            "grid_template_columns": null,
            "grid_template_rows": null,
            "height": null,
            "justify_content": null,
            "justify_items": null,
            "left": null,
            "margin": null,
            "max_height": null,
            "max_width": null,
            "min_height": null,
            "min_width": null,
            "object_fit": null,
            "object_position": null,
            "order": null,
            "overflow": null,
            "overflow_x": null,
            "overflow_y": null,
            "padding": null,
            "right": null,
            "top": null,
            "visibility": null,
            "width": null
          }
        },
        "067c788620914f739ad1265ff5b5c5d7": {
          "model_module": "@jupyter-widgets/base",
          "model_module_version": "1.2.0",
          "model_name": "LayoutModel",
          "state": {
            "_model_module": "@jupyter-widgets/base",
            "_model_module_version": "1.2.0",
            "_model_name": "LayoutModel",
            "_view_count": null,
            "_view_module": "@jupyter-widgets/base",
            "_view_module_version": "1.2.0",
            "_view_name": "LayoutView",
            "align_content": null,
            "align_items": null,
            "align_self": null,
            "border": null,
            "bottom": null,
            "display": null,
            "flex": null,
            "flex_flow": null,
            "grid_area": null,
            "grid_auto_columns": null,
            "grid_auto_flow": null,
            "grid_auto_rows": null,
            "grid_column": null,
            "grid_gap": null,
            "grid_row": null,
            "grid_template_areas": null,
            "grid_template_columns": null,
            "grid_template_rows": null,
            "height": null,
            "justify_content": null,
            "justify_items": null,
            "left": null,
            "margin": null,
            "max_height": null,
            "max_width": null,
            "min_height": null,
            "min_width": null,
            "object_fit": null,
            "object_position": null,
            "order": null,
            "overflow": null,
            "overflow_x": null,
            "overflow_y": null,
            "padding": null,
            "right": null,
            "top": null,
            "visibility": null,
            "width": null
          }
        },
        "06b8ba3f3ea444d9a99edd827ecb5f6f": {
          "model_module": "@jupyter-widgets/controls",
          "model_module_version": "1.5.0",
          "model_name": "FloatProgressModel",
          "state": {
            "_dom_classes": [],
            "_model_module": "@jupyter-widgets/controls",
            "_model_module_version": "1.5.0",
            "_model_name": "FloatProgressModel",
            "_view_count": null,
            "_view_module": "@jupyter-widgets/controls",
            "_view_module_version": "1.5.0",
            "_view_name": "ProgressView",
            "bar_style": "success",
            "description": "",
            "description_tooltip": null,
            "layout": "IPY_MODEL_3658790c195e44caafab30afc531f952",
            "max": 695,
            "min": 0,
            "orientation": "horizontal",
            "style": "IPY_MODEL_3062fdd0ed1a4fbabb877b5113d5bf85",
            "value": 695
          }
        },
        "07e932429b914c31af16e2cf716871bc": {
          "model_module": "@jupyter-widgets/controls",
          "model_module_version": "1.5.0",
          "model_name": "FloatProgressModel",
          "state": {
            "_dom_classes": [],
            "_model_module": "@jupyter-widgets/controls",
            "_model_module_version": "1.5.0",
            "_model_name": "FloatProgressModel",
            "_view_count": null,
            "_view_module": "@jupyter-widgets/controls",
            "_view_module_version": "1.5.0",
            "_view_name": "ProgressView",
            "bar_style": "success",
            "description": "",
            "description_tooltip": null,
            "layout": "IPY_MODEL_8e99b4b5f9cf4bbebe3302883bcae848",
            "max": 711396,
            "min": 0,
            "orientation": "horizontal",
            "style": "IPY_MODEL_cba426ba891443d3bbae64a0b8bc5eee",
            "value": 711396
          }
        },
        "0c665c1962a34e9f85fd465c5f11ba0f": {
          "model_module": "@jupyter-widgets/base",
          "model_module_version": "1.2.0",
          "model_name": "LayoutModel",
          "state": {
            "_model_module": "@jupyter-widgets/base",
            "_model_module_version": "1.2.0",
            "_model_name": "LayoutModel",
            "_view_count": null,
            "_view_module": "@jupyter-widgets/base",
            "_view_module_version": "1.2.0",
            "_view_name": "LayoutView",
            "align_content": null,
            "align_items": null,
            "align_self": null,
            "border": null,
            "bottom": null,
            "display": null,
            "flex": null,
            "flex_flow": null,
            "grid_area": null,
            "grid_auto_columns": null,
            "grid_auto_flow": null,
            "grid_auto_rows": null,
            "grid_column": null,
            "grid_gap": null,
            "grid_row": null,
            "grid_template_areas": null,
            "grid_template_columns": null,
            "grid_template_rows": null,
            "height": null,
            "justify_content": null,
            "justify_items": null,
            "left": null,
            "margin": null,
            "max_height": null,
            "max_width": null,
            "min_height": null,
            "min_width": null,
            "object_fit": null,
            "object_position": null,
            "order": null,
            "overflow": null,
            "overflow_x": null,
            "overflow_y": null,
            "padding": null,
            "right": null,
            "top": null,
            "visibility": null,
            "width": null
          }
        },
        "1597bfd63c8f480bb634fd6d63b9877a": {
          "model_module": "@jupyter-widgets/controls",
          "model_module_version": "1.5.0",
          "model_name": "FloatProgressModel",
          "state": {
            "_dom_classes": [],
            "_model_module": "@jupyter-widgets/controls",
            "_model_module_version": "1.5.0",
            "_model_name": "FloatProgressModel",
            "_view_count": null,
            "_view_module": "@jupyter-widgets/controls",
            "_view_module_version": "1.5.0",
            "_view_name": "ProgressView",
            "bar_style": "success",
            "description": "",
            "description_tooltip": null,
            "layout": "IPY_MODEL_01415766f84649089c36a4d98ac06809",
            "max": 217824172,
            "min": 0,
            "orientation": "horizontal",
            "style": "IPY_MODEL_79d05ab16e6b4637928410af7b23fcf5",
            "value": 217824172
          }
        },
        "1a37750dd06f40f389523b71fbdff02e": {
          "model_module": "@jupyter-widgets/base",
          "model_module_version": "1.2.0",
          "model_name": "LayoutModel",
          "state": {
            "_model_module": "@jupyter-widgets/base",
            "_model_module_version": "1.2.0",
            "_model_name": "LayoutModel",
            "_view_count": null,
            "_view_module": "@jupyter-widgets/base",
            "_view_module_version": "1.2.0",
            "_view_name": "LayoutView",
            "align_content": null,
            "align_items": null,
            "align_self": null,
            "border": null,
            "bottom": null,
            "display": null,
            "flex": null,
            "flex_flow": null,
            "grid_area": null,
            "grid_auto_columns": null,
            "grid_auto_flow": null,
            "grid_auto_rows": null,
            "grid_column": null,
            "grid_gap": null,
            "grid_row": null,
            "grid_template_areas": null,
            "grid_template_columns": null,
            "grid_template_rows": null,
            "height": null,
            "justify_content": null,
            "justify_items": null,
            "left": null,
            "margin": null,
            "max_height": null,
            "max_width": null,
            "min_height": null,
            "min_width": null,
            "object_fit": null,
            "object_position": null,
            "order": null,
            "overflow": null,
            "overflow_x": null,
            "overflow_y": null,
            "padding": null,
            "right": null,
            "top": null,
            "visibility": null,
            "width": null
          }
        },
        "286ae8c6ba83475fbbece0f192215246": {
          "model_module": "@jupyter-widgets/base",
          "model_module_version": "1.2.0",
          "model_name": "LayoutModel",
          "state": {
            "_model_module": "@jupyter-widgets/base",
            "_model_module_version": "1.2.0",
            "_model_name": "LayoutModel",
            "_view_count": null,
            "_view_module": "@jupyter-widgets/base",
            "_view_module_version": "1.2.0",
            "_view_name": "LayoutView",
            "align_content": null,
            "align_items": null,
            "align_self": null,
            "border": null,
            "bottom": null,
            "display": null,
            "flex": null,
            "flex_flow": null,
            "grid_area": null,
            "grid_auto_columns": null,
            "grid_auto_flow": null,
            "grid_auto_rows": null,
            "grid_column": null,
            "grid_gap": null,
            "grid_row": null,
            "grid_template_areas": null,
            "grid_template_columns": null,
            "grid_template_rows": null,
            "height": null,
            "justify_content": null,
            "justify_items": null,
            "left": null,
            "margin": null,
            "max_height": null,
            "max_width": null,
            "min_height": null,
            "min_width": null,
            "object_fit": null,
            "object_position": null,
            "order": null,
            "overflow": null,
            "overflow_x": null,
            "overflow_y": null,
            "padding": null,
            "right": null,
            "top": null,
            "visibility": null,
            "width": null
          }
        },
        "2bbe7df1a6084b0c9a649a2236c6f23d": {
          "model_module": "@jupyter-widgets/base",
          "model_module_version": "1.2.0",
          "model_name": "LayoutModel",
          "state": {
            "_model_module": "@jupyter-widgets/base",
            "_model_module_version": "1.2.0",
            "_model_name": "LayoutModel",
            "_view_count": null,
            "_view_module": "@jupyter-widgets/base",
            "_view_module_version": "1.2.0",
            "_view_name": "LayoutView",
            "align_content": null,
            "align_items": null,
            "align_self": null,
            "border": null,
            "bottom": null,
            "display": null,
            "flex": null,
            "flex_flow": null,
            "grid_area": null,
            "grid_auto_columns": null,
            "grid_auto_flow": null,
            "grid_auto_rows": null,
            "grid_column": null,
            "grid_gap": null,
            "grid_row": null,
            "grid_template_areas": null,
            "grid_template_columns": null,
            "grid_template_rows": null,
            "height": null,
            "justify_content": null,
            "justify_items": null,
            "left": null,
            "margin": null,
            "max_height": null,
            "max_width": null,
            "min_height": null,
            "min_width": null,
            "object_fit": null,
            "object_position": null,
            "order": null,
            "overflow": null,
            "overflow_x": null,
            "overflow_y": null,
            "padding": null,
            "right": null,
            "top": null,
            "visibility": null,
            "width": null
          }
        },
        "2f8f88c22f8245d99afdb701ddea809e": {
          "model_module": "@jupyter-widgets/controls",
          "model_module_version": "1.5.0",
          "model_name": "HTMLModel",
          "state": {
            "_dom_classes": [],
            "_model_module": "@jupyter-widgets/controls",
            "_model_module_version": "1.5.0",
            "_model_name": "HTMLModel",
            "_view_count": null,
            "_view_module": "@jupyter-widgets/controls",
            "_view_module_version": "1.5.0",
            "_view_name": "HTMLView",
            "description": "",
            "description_tooltip": null,
            "layout": "IPY_MODEL_286ae8c6ba83475fbbece0f192215246",
            "placeholder": "​",
            "style": "IPY_MODEL_78942167beaa489f97fab7f61a95cebd",
            "value": "model_optimized.onnx: 100%"
          }
        },
        "3062fdd0ed1a4fbabb877b5113d5bf85": {
          "model_module": "@jupyter-widgets/controls",
          "model_module_version": "1.5.0",
          "model_name": "ProgressStyleModel",
          "state": {
            "_model_module": "@jupyter-widgets/controls",
            "_model_module_version": "1.5.0",
            "_model_name": "ProgressStyleModel",
            "_view_count": null,
            "_view_module": "@jupyter-widgets/base",
            "_view_module_version": "1.2.0",
            "_view_name": "StyleView",
            "bar_color": null,
            "description_width": ""
          }
        },
        "3658790c195e44caafab30afc531f952": {
          "model_module": "@jupyter-widgets/base",
          "model_module_version": "1.2.0",
          "model_name": "LayoutModel",
          "state": {
            "_model_module": "@jupyter-widgets/base",
            "_model_module_version": "1.2.0",
            "_model_name": "LayoutModel",
            "_view_count": null,
            "_view_module": "@jupyter-widgets/base",
            "_view_module_version": "1.2.0",
            "_view_name": "LayoutView",
            "align_content": null,
            "align_items": null,
            "align_self": null,
            "border": null,
            "bottom": null,
            "display": null,
            "flex": null,
            "flex_flow": null,
            "grid_area": null,
            "grid_auto_columns": null,
            "grid_auto_flow": null,
            "grid_auto_rows": null,
            "grid_column": null,
            "grid_gap": null,
            "grid_row": null,
            "grid_template_areas": null,
            "grid_template_columns": null,
            "grid_template_rows": null,
            "height": null,
            "justify_content": null,
            "justify_items": null,
            "left": null,
            "margin": null,
            "max_height": null,
            "max_width": null,
            "min_height": null,
            "min_width": null,
            "object_fit": null,
            "object_position": null,
            "order": null,
            "overflow": null,
            "overflow_x": null,
            "overflow_y": null,
            "padding": null,
            "right": null,
            "top": null,
            "visibility": null,
            "width": null
          }
        },
        "373e13a6155b40a1a200db9a0d2fe39b": {
          "model_module": "@jupyter-widgets/controls",
          "model_module_version": "1.5.0",
          "model_name": "HTMLModel",
          "state": {
            "_dom_classes": [],
            "_model_module": "@jupyter-widgets/controls",
            "_model_module_version": "1.5.0",
            "_model_name": "HTMLModel",
            "_view_count": null,
            "_view_module": "@jupyter-widgets/controls",
            "_view_module_version": "1.5.0",
            "_view_name": "HTMLView",
            "description": "",
            "description_tooltip": null,
            "layout": "IPY_MODEL_df207be402694bcf84f093c1b060932a",
            "placeholder": "​",
            "style": "IPY_MODEL_c2e0930f54d24fa3bd67df51f197eb3e",
            "value": " 711k/711k [00:00&lt;00:00, 1.78MB/s]"
          }
        },
        "3d654415aea24e90bb5a0a18e0563ec4": {
          "model_module": "@jupyter-widgets/controls",
          "model_module_version": "1.5.0",
          "model_name": "HBoxModel",
          "state": {
            "_dom_classes": [],
            "_model_module": "@jupyter-widgets/controls",
            "_model_module_version": "1.5.0",
            "_model_name": "HBoxModel",
            "_view_count": null,
            "_view_module": "@jupyter-widgets/controls",
            "_view_module_version": "1.5.0",
            "_view_name": "HBoxView",
            "box_style": "",
            "children": [
              "IPY_MODEL_ea39d173403d4c4a88939dea56b81a11",
              "IPY_MODEL_c59c7533a32b49e8ae417a7ec3690fe5",
              "IPY_MODEL_45b25c21193d4bcc8a7715ffa13e23a2"
            ],
            "layout": "IPY_MODEL_4ee9b216ad7244ad89a93d0288674fca"
          }
        },
        "45b25c21193d4bcc8a7715ffa13e23a2": {
          "model_module": "@jupyter-widgets/controls",
          "model_module_version": "1.5.0",
          "model_name": "HTMLModel",
          "state": {
            "_dom_classes": [],
            "_model_module": "@jupyter-widgets/controls",
            "_model_module_version": "1.5.0",
            "_model_name": "HTMLModel",
            "_view_count": null,
            "_view_module": "@jupyter-widgets/controls",
            "_view_module_version": "1.5.0",
            "_view_name": "HTMLView",
            "description": "",
            "description_tooltip": null,
            "layout": "IPY_MODEL_2bbe7df1a6084b0c9a649a2236c6f23d",
            "placeholder": "​",
            "style": "IPY_MODEL_7a75debf339048a3bbd617e7041338b9",
            "value": " 1.24k/1.24k [00:00&lt;00:00, 9.76kB/s]"
          }
        },
        "4880c7df75614c959e7b887326c5b191": {
          "model_module": "@jupyter-widgets/base",
          "model_module_version": "1.2.0",
          "model_name": "LayoutModel",
          "state": {
            "_model_module": "@jupyter-widgets/base",
            "_model_module_version": "1.2.0",
            "_model_name": "LayoutModel",
            "_view_count": null,
            "_view_module": "@jupyter-widgets/base",
            "_view_module_version": "1.2.0",
            "_view_name": "LayoutView",
            "align_content": null,
            "align_items": null,
            "align_self": null,
            "border": null,
            "bottom": null,
            "display": null,
            "flex": null,
            "flex_flow": null,
            "grid_area": null,
            "grid_auto_columns": null,
            "grid_auto_flow": null,
            "grid_auto_rows": null,
            "grid_column": null,
            "grid_gap": null,
            "grid_row": null,
            "grid_template_areas": null,
            "grid_template_columns": null,
            "grid_template_rows": null,
            "height": null,
            "justify_content": null,
            "justify_items": null,
            "left": null,
            "margin": null,
            "max_height": null,
            "max_width": null,
            "min_height": null,
            "min_width": null,
            "object_fit": null,
            "object_position": null,
            "order": null,
            "overflow": null,
            "overflow_x": null,
            "overflow_y": null,
            "padding": null,
            "right": null,
            "top": null,
            "visibility": null,
            "width": null
          }
        },
        "4a957980b8af4fa2a2c58ad4ef830d2f": {
          "model_module": "@jupyter-widgets/base",
          "model_module_version": "1.2.0",
          "model_name": "LayoutModel",
          "state": {
            "_model_module": "@jupyter-widgets/base",
            "_model_module_version": "1.2.0",
            "_model_name": "LayoutModel",
            "_view_count": null,
            "_view_module": "@jupyter-widgets/base",
            "_view_module_version": "1.2.0",
            "_view_name": "LayoutView",
            "align_content": null,
            "align_items": null,
            "align_self": null,
            "border": null,
            "bottom": null,
            "display": null,
            "flex": null,
            "flex_flow": null,
            "grid_area": null,
            "grid_auto_columns": null,
            "grid_auto_flow": null,
            "grid_auto_rows": null,
            "grid_column": null,
            "grid_gap": null,
            "grid_row": null,
            "grid_template_areas": null,
            "grid_template_columns": null,
            "grid_template_rows": null,
            "height": null,
            "justify_content": null,
            "justify_items": null,
            "left": null,
            "margin": null,
            "max_height": null,
            "max_width": null,
            "min_height": null,
            "min_width": null,
            "object_fit": null,
            "object_position": null,
            "order": null,
            "overflow": null,
            "overflow_x": null,
            "overflow_y": null,
            "padding": null,
            "right": null,
            "top": null,
            "visibility": null,
            "width": null
          }
        },
        "4ba61b41ee81486cb9c2aa06be1095b0": {
          "model_module": "@jupyter-widgets/controls",
          "model_module_version": "1.5.0",
          "model_name": "HTMLModel",
          "state": {
            "_dom_classes": [],
            "_model_module": "@jupyter-widgets/controls",
            "_model_module_version": "1.5.0",
            "_model_name": "HTMLModel",
            "_view_count": null,
            "_view_module": "@jupyter-widgets/controls",
            "_view_module_version": "1.5.0",
            "_view_name": "HTMLView",
            "description": "",
            "description_tooltip": null,
            "layout": "IPY_MODEL_6561e5dfca3a4b9f9770459e9d64975f",
            "placeholder": "​",
            "style": "IPY_MODEL_dcb80c2deb694ff6b37c40d2022c69e4",
            "value": "Fetching 5 files: 100%"
          }
        },
        "4dd9f4bdf1e14339916cd1e81a81af84": {
          "model_module": "@jupyter-widgets/base",
          "model_module_version": "1.2.0",
          "model_name": "LayoutModel",
          "state": {
            "_model_module": "@jupyter-widgets/base",
            "_model_module_version": "1.2.0",
            "_model_name": "LayoutModel",
            "_view_count": null,
            "_view_module": "@jupyter-widgets/base",
            "_view_module_version": "1.2.0",
            "_view_name": "LayoutView",
            "align_content": null,
            "align_items": null,
            "align_self": null,
            "border": null,
            "bottom": null,
            "display": null,
            "flex": null,
            "flex_flow": null,
            "grid_area": null,
            "grid_auto_columns": null,
            "grid_auto_flow": null,
            "grid_auto_rows": null,
            "grid_column": null,
            "grid_gap": null,
            "grid_row": null,
            "grid_template_areas": null,
            "grid_template_columns": null,
            "grid_template_rows": null,
            "height": null,
            "justify_content": null,
            "justify_items": null,
            "left": null,
            "margin": null,
            "max_height": null,
            "max_width": null,
            "min_height": null,
            "min_width": null,
            "object_fit": null,
            "object_position": null,
            "order": null,
            "overflow": null,
            "overflow_x": null,
            "overflow_y": null,
            "padding": null,
            "right": null,
            "top": null,
            "visibility": null,
            "width": null
          }
        },
        "4ee9b216ad7244ad89a93d0288674fca": {
          "model_module": "@jupyter-widgets/base",
          "model_module_version": "1.2.0",
          "model_name": "LayoutModel",
          "state": {
            "_model_module": "@jupyter-widgets/base",
            "_model_module_version": "1.2.0",
            "_model_name": "LayoutModel",
            "_view_count": null,
            "_view_module": "@jupyter-widgets/base",
            "_view_module_version": "1.2.0",
            "_view_name": "LayoutView",
            "align_content": null,
            "align_items": null,
            "align_self": null,
            "border": null,
            "bottom": null,
            "display": null,
            "flex": null,
            "flex_flow": null,
            "grid_area": null,
            "grid_auto_columns": null,
            "grid_auto_flow": null,
            "grid_auto_rows": null,
            "grid_column": null,
            "grid_gap": null,
            "grid_row": null,
            "grid_template_areas": null,
            "grid_template_columns": null,
            "grid_template_rows": null,
            "height": null,
            "justify_content": null,
            "justify_items": null,
            "left": null,
            "margin": null,
            "max_height": null,
            "max_width": null,
            "min_height": null,
            "min_width": null,
            "object_fit": null,
            "object_position": null,
            "order": null,
            "overflow": null,
            "overflow_x": null,
            "overflow_y": null,
            "padding": null,
            "right": null,
            "top": null,
            "visibility": null,
            "width": null
          }
        },
        "5317276f76cc4d568adc39c10bfa8f98": {
          "model_module": "@jupyter-widgets/controls",
          "model_module_version": "1.5.0",
          "model_name": "HTMLModel",
          "state": {
            "_dom_classes": [],
            "_model_module": "@jupyter-widgets/controls",
            "_model_module_version": "1.5.0",
            "_model_name": "HTMLModel",
            "_view_count": null,
            "_view_module": "@jupyter-widgets/controls",
            "_view_module_version": "1.5.0",
            "_view_name": "HTMLView",
            "description": "",
            "description_tooltip": null,
            "layout": "IPY_MODEL_7e90b2a934f7417b85d7a4255208c21c",
            "placeholder": "​",
            "style": "IPY_MODEL_ce7ad24277c44e03ad4b8f16f210bc2d",
            "value": " 695/695 [00:00&lt;00:00, 6.30kB/s]"
          }
        },
        "5673da9cf2ca4a4f96338c9f70f98bc1": {
          "model_module": "@jupyter-widgets/controls",
          "model_module_version": "1.5.0",
          "model_name": "HBoxModel",
          "state": {
            "_dom_classes": [],
            "_model_module": "@jupyter-widgets/controls",
            "_model_module_version": "1.5.0",
            "_model_name": "HBoxModel",
            "_view_count": null,
            "_view_module": "@jupyter-widgets/controls",
            "_view_module_version": "1.5.0",
            "_view_name": "HBoxView",
            "box_style": "",
            "children": [
              "IPY_MODEL_4ba61b41ee81486cb9c2aa06be1095b0",
              "IPY_MODEL_afd2cc12e4fd476993ff3db1b41615e5",
              "IPY_MODEL_907799010cf14f19880c3886a7a6fb91"
            ],
            "layout": "IPY_MODEL_89a0cd23ab9a49e988ff7bd47c5bca12"
          }
        },
        "6561e5dfca3a4b9f9770459e9d64975f": {
          "model_module": "@jupyter-widgets/base",
          "model_module_version": "1.2.0",
          "model_name": "LayoutModel",
          "state": {
            "_model_module": "@jupyter-widgets/base",
            "_model_module_version": "1.2.0",
            "_model_name": "LayoutModel",
            "_view_count": null,
            "_view_module": "@jupyter-widgets/base",
            "_view_module_version": "1.2.0",
            "_view_name": "LayoutView",
            "align_content": null,
            "align_items": null,
            "align_self": null,
            "border": null,
            "bottom": null,
            "display": null,
            "flex": null,
            "flex_flow": null,
            "grid_area": null,
            "grid_auto_columns": null,
            "grid_auto_flow": null,
            "grid_auto_rows": null,
            "grid_column": null,
            "grid_gap": null,
            "grid_row": null,
            "grid_template_areas": null,
            "grid_template_columns": null,
            "grid_template_rows": null,
            "height": null,
            "justify_content": null,
            "justify_items": null,
            "left": null,
            "margin": null,
            "max_height": null,
            "max_width": null,
            "min_height": null,
            "min_width": null,
            "object_fit": null,
            "object_position": null,
            "order": null,
            "overflow": null,
            "overflow_x": null,
            "overflow_y": null,
            "padding": null,
            "right": null,
            "top": null,
            "visibility": null,
            "width": null
          }
        },
        "663fa47f6a1b4cda8c0b9fe1f79ce1e7": {
          "model_module": "@jupyter-widgets/controls",
          "model_module_version": "1.5.0",
          "model_name": "FloatProgressModel",
          "state": {
            "_dom_classes": [],
            "_model_module": "@jupyter-widgets/controls",
            "_model_module_version": "1.5.0",
            "_model_name": "FloatProgressModel",
            "_view_count": null,
            "_view_module": "@jupyter-widgets/controls",
            "_view_module_version": "1.5.0",
            "_view_name": "ProgressView",
            "bar_style": "success",
            "description": "",
            "description_tooltip": null,
            "layout": "IPY_MODEL_d5fb57994c494b5795e4df131533480f",
            "max": 740,
            "min": 0,
            "orientation": "horizontal",
            "style": "IPY_MODEL_9f18bc551a7d46b6aa102ebcff258deb",
            "value": 740
          }
        },
        "6749112523564e379c353da1c0a2bc9c": {
          "model_module": "@jupyter-widgets/base",
          "model_module_version": "1.2.0",
          "model_name": "LayoutModel",
          "state": {
            "_model_module": "@jupyter-widgets/base",
            "_model_module_version": "1.2.0",
            "_model_name": "LayoutModel",
            "_view_count": null,
            "_view_module": "@jupyter-widgets/base",
            "_view_module_version": "1.2.0",
            "_view_name": "LayoutView",
            "align_content": null,
            "align_items": null,
            "align_self": null,
            "border": null,
            "bottom": null,
            "display": null,
            "flex": null,
            "flex_flow": null,
            "grid_area": null,
            "grid_auto_columns": null,
            "grid_auto_flow": null,
            "grid_auto_rows": null,
            "grid_column": null,
            "grid_gap": null,
            "grid_row": null,
            "grid_template_areas": null,
            "grid_template_columns": null,
            "grid_template_rows": null,
            "height": null,
            "justify_content": null,
            "justify_items": null,
            "left": null,
            "margin": null,
            "max_height": null,
            "max_width": null,
            "min_height": null,
            "min_width": null,
            "object_fit": null,
            "object_position": null,
            "order": null,
            "overflow": null,
            "overflow_x": null,
            "overflow_y": null,
            "padding": null,
            "right": null,
            "top": null,
            "visibility": null,
            "width": null
          }
        },
        "6b1332ca7da44d4aae5fe3e4248b092d": {
          "model_module": "@jupyter-widgets/controls",
          "model_module_version": "1.5.0",
          "model_name": "HTMLModel",
          "state": {
            "_dom_classes": [],
            "_model_module": "@jupyter-widgets/controls",
            "_model_module_version": "1.5.0",
            "_model_name": "HTMLModel",
            "_view_count": null,
            "_view_module": "@jupyter-widgets/controls",
            "_view_module_version": "1.5.0",
            "_view_name": "HTMLView",
            "description": "",
            "description_tooltip": null,
            "layout": "IPY_MODEL_0c665c1962a34e9f85fd465c5f11ba0f",
            "placeholder": "​",
            "style": "IPY_MODEL_7f468a964cfe423d82e57550b919b2d1",
            "value": " 218M/218M [00:02&lt;00:00, 118MB/s]"
          }
        },
        "6ddaddfbeded44ebb94f1760cff53621": {
          "model_module": "@jupyter-widgets/controls",
          "model_module_version": "1.5.0",
          "model_name": "HTMLModel",
          "state": {
            "_dom_classes": [],
            "_model_module": "@jupyter-widgets/controls",
            "_model_module_version": "1.5.0",
            "_model_name": "HTMLModel",
            "_view_count": null,
            "_view_module": "@jupyter-widgets/controls",
            "_view_module_version": "1.5.0",
            "_view_name": "HTMLView",
            "description": "",
            "description_tooltip": null,
            "layout": "IPY_MODEL_4dd9f4bdf1e14339916cd1e81a81af84",
            "placeholder": "​",
            "style": "IPY_MODEL_f314f28ac3e142f0b8336c9bf4c24912",
            "value": "tokenizer.json: 100%"
          }
        },
        "6f157aea63a746e5b2ff906d3e823aa5": {
          "model_module": "@jupyter-widgets/controls",
          "model_module_version": "1.5.0",
          "model_name": "DescriptionStyleModel",
          "state": {
            "_model_module": "@jupyter-widgets/controls",
            "_model_module_version": "1.5.0",
            "_model_name": "DescriptionStyleModel",
            "_view_count": null,
            "_view_module": "@jupyter-widgets/base",
            "_view_module_version": "1.2.0",
            "_view_name": "StyleView",
            "description_width": ""
          }
        },
        "720dfac202ba4c509dfc8a7a9a5e8f1d": {
          "model_module": "@jupyter-widgets/base",
          "model_module_version": "1.2.0",
          "model_name": "LayoutModel",
          "state": {
            "_model_module": "@jupyter-widgets/base",
            "_model_module_version": "1.2.0",
            "_model_name": "LayoutModel",
            "_view_count": null,
            "_view_module": "@jupyter-widgets/base",
            "_view_module_version": "1.2.0",
            "_view_name": "LayoutView",
            "align_content": null,
            "align_items": null,
            "align_self": null,
            "border": null,
            "bottom": null,
            "display": null,
            "flex": null,
            "flex_flow": null,
            "grid_area": null,
            "grid_auto_columns": null,
            "grid_auto_flow": null,
            "grid_auto_rows": null,
            "grid_column": null,
            "grid_gap": null,
            "grid_row": null,
            "grid_template_areas": null,
            "grid_template_columns": null,
            "grid_template_rows": null,
            "height": null,
            "justify_content": null,
            "justify_items": null,
            "left": null,
            "margin": null,
            "max_height": null,
            "max_width": null,
            "min_height": null,
            "min_width": null,
            "object_fit": null,
            "object_position": null,
            "order": null,
            "overflow": null,
            "overflow_x": null,
            "overflow_y": null,
            "padding": null,
            "right": null,
            "top": null,
            "visibility": null,
            "width": null
          }
        },
        "78942167beaa489f97fab7f61a95cebd": {
          "model_module": "@jupyter-widgets/controls",
          "model_module_version": "1.5.0",
          "model_name": "DescriptionStyleModel",
          "state": {
            "_model_module": "@jupyter-widgets/controls",
            "_model_module_version": "1.5.0",
            "_model_name": "DescriptionStyleModel",
            "_view_count": null,
            "_view_module": "@jupyter-widgets/base",
            "_view_module_version": "1.2.0",
            "_view_name": "StyleView",
            "description_width": ""
          }
        },
        "79d05ab16e6b4637928410af7b23fcf5": {
          "model_module": "@jupyter-widgets/controls",
          "model_module_version": "1.5.0",
          "model_name": "ProgressStyleModel",
          "state": {
            "_model_module": "@jupyter-widgets/controls",
            "_model_module_version": "1.5.0",
            "_model_name": "ProgressStyleModel",
            "_view_count": null,
            "_view_module": "@jupyter-widgets/base",
            "_view_module_version": "1.2.0",
            "_view_name": "StyleView",
            "bar_color": null,
            "description_width": ""
          }
        },
        "7a75debf339048a3bbd617e7041338b9": {
          "model_module": "@jupyter-widgets/controls",
          "model_module_version": "1.5.0",
          "model_name": "DescriptionStyleModel",
          "state": {
            "_model_module": "@jupyter-widgets/controls",
            "_model_module_version": "1.5.0",
            "_model_name": "DescriptionStyleModel",
            "_view_count": null,
            "_view_module": "@jupyter-widgets/base",
            "_view_module_version": "1.2.0",
            "_view_name": "StyleView",
            "description_width": ""
          }
        },
        "7e90b2a934f7417b85d7a4255208c21c": {
          "model_module": "@jupyter-widgets/base",
          "model_module_version": "1.2.0",
          "model_name": "LayoutModel",
          "state": {
            "_model_module": "@jupyter-widgets/base",
            "_model_module_version": "1.2.0",
            "_model_name": "LayoutModel",
            "_view_count": null,
            "_view_module": "@jupyter-widgets/base",
            "_view_module_version": "1.2.0",
            "_view_name": "LayoutView",
            "align_content": null,
            "align_items": null,
            "align_self": null,
            "border": null,
            "bottom": null,
            "display": null,
            "flex": null,
            "flex_flow": null,
            "grid_area": null,
            "grid_auto_columns": null,
            "grid_auto_flow": null,
            "grid_auto_rows": null,
            "grid_column": null,
            "grid_gap": null,
            "grid_row": null,
            "grid_template_areas": null,
            "grid_template_columns": null,
            "grid_template_rows": null,
            "height": null,
            "justify_content": null,
            "justify_items": null,
            "left": null,
            "margin": null,
            "max_height": null,
            "max_width": null,
            "min_height": null,
            "min_width": null,
            "object_fit": null,
            "object_position": null,
            "order": null,
            "overflow": null,
            "overflow_x": null,
            "overflow_y": null,
            "padding": null,
            "right": null,
            "top": null,
            "visibility": null,
            "width": null
          }
        },
        "7f468a964cfe423d82e57550b919b2d1": {
          "model_module": "@jupyter-widgets/controls",
          "model_module_version": "1.5.0",
          "model_name": "DescriptionStyleModel",
          "state": {
            "_model_module": "@jupyter-widgets/controls",
            "_model_module_version": "1.5.0",
            "_model_name": "DescriptionStyleModel",
            "_view_count": null,
            "_view_module": "@jupyter-widgets/base",
            "_view_module_version": "1.2.0",
            "_view_name": "StyleView",
            "description_width": ""
          }
        },
        "87961a8065644a98bfa08b8481186207": {
          "model_module": "@jupyter-widgets/base",
          "model_module_version": "1.2.0",
          "model_name": "LayoutModel",
          "state": {
            "_model_module": "@jupyter-widgets/base",
            "_model_module_version": "1.2.0",
            "_model_name": "LayoutModel",
            "_view_count": null,
            "_view_module": "@jupyter-widgets/base",
            "_view_module_version": "1.2.0",
            "_view_name": "LayoutView",
            "align_content": null,
            "align_items": null,
            "align_self": null,
            "border": null,
            "bottom": null,
            "display": null,
            "flex": null,
            "flex_flow": null,
            "grid_area": null,
            "grid_auto_columns": null,
            "grid_auto_flow": null,
            "grid_auto_rows": null,
            "grid_column": null,
            "grid_gap": null,
            "grid_row": null,
            "grid_template_areas": null,
            "grid_template_columns": null,
            "grid_template_rows": null,
            "height": null,
            "justify_content": null,
            "justify_items": null,
            "left": null,
            "margin": null,
            "max_height": null,
            "max_width": null,
            "min_height": null,
            "min_width": null,
            "object_fit": null,
            "object_position": null,
            "order": null,
            "overflow": null,
            "overflow_x": null,
            "overflow_y": null,
            "padding": null,
            "right": null,
            "top": null,
            "visibility": null,
            "width": null
          }
        },
        "89a0cd23ab9a49e988ff7bd47c5bca12": {
          "model_module": "@jupyter-widgets/base",
          "model_module_version": "1.2.0",
          "model_name": "LayoutModel",
          "state": {
            "_model_module": "@jupyter-widgets/base",
            "_model_module_version": "1.2.0",
            "_model_name": "LayoutModel",
            "_view_count": null,
            "_view_module": "@jupyter-widgets/base",
            "_view_module_version": "1.2.0",
            "_view_name": "LayoutView",
            "align_content": null,
            "align_items": null,
            "align_self": null,
            "border": null,
            "bottom": null,
            "display": null,
            "flex": null,
            "flex_flow": null,
            "grid_area": null,
            "grid_auto_columns": null,
            "grid_auto_flow": null,
            "grid_auto_rows": null,
            "grid_column": null,
            "grid_gap": null,
            "grid_row": null,
            "grid_template_areas": null,
            "grid_template_columns": null,
            "grid_template_rows": null,
            "height": null,
            "justify_content": null,
            "justify_items": null,
            "left": null,
            "margin": null,
            "max_height": null,
            "max_width": null,
            "min_height": null,
            "min_width": null,
            "object_fit": null,
            "object_position": null,
            "order": null,
            "overflow": null,
            "overflow_x": null,
            "overflow_y": null,
            "padding": null,
            "right": null,
            "top": null,
            "visibility": null,
            "width": null
          }
        },
        "8a61bb0dd0a1479f803be59ee57f0de8": {
          "model_module": "@jupyter-widgets/base",
          "model_module_version": "1.2.0",
          "model_name": "LayoutModel",
          "state": {
            "_model_module": "@jupyter-widgets/base",
            "_model_module_version": "1.2.0",
            "_model_name": "LayoutModel",
            "_view_count": null,
            "_view_module": "@jupyter-widgets/base",
            "_view_module_version": "1.2.0",
            "_view_name": "LayoutView",
            "align_content": null,
            "align_items": null,
            "align_self": null,
            "border": null,
            "bottom": null,
            "display": null,
            "flex": null,
            "flex_flow": null,
            "grid_area": null,
            "grid_auto_columns": null,
            "grid_auto_flow": null,
            "grid_auto_rows": null,
            "grid_column": null,
            "grid_gap": null,
            "grid_row": null,
            "grid_template_areas": null,
            "grid_template_columns": null,
            "grid_template_rows": null,
            "height": null,
            "justify_content": null,
            "justify_items": null,
            "left": null,
            "margin": null,
            "max_height": null,
            "max_width": null,
            "min_height": null,
            "min_width": null,
            "object_fit": null,
            "object_position": null,
            "order": null,
            "overflow": null,
            "overflow_x": null,
            "overflow_y": null,
            "padding": null,
            "right": null,
            "top": null,
            "visibility": null,
            "width": null
          }
        },
        "8e99b4b5f9cf4bbebe3302883bcae848": {
          "model_module": "@jupyter-widgets/base",
          "model_module_version": "1.2.0",
          "model_name": "LayoutModel",
          "state": {
            "_model_module": "@jupyter-widgets/base",
            "_model_module_version": "1.2.0",
            "_model_name": "LayoutModel",
            "_view_count": null,
            "_view_module": "@jupyter-widgets/base",
            "_view_module_version": "1.2.0",
            "_view_name": "LayoutView",
            "align_content": null,
            "align_items": null,
            "align_self": null,
            "border": null,
            "bottom": null,
            "display": null,
            "flex": null,
            "flex_flow": null,
            "grid_area": null,
            "grid_auto_columns": null,
            "grid_auto_flow": null,
            "grid_auto_rows": null,
            "grid_column": null,
            "grid_gap": null,
            "grid_row": null,
            "grid_template_areas": null,
            "grid_template_columns": null,
            "grid_template_rows": null,
            "height": null,
            "justify_content": null,
            "justify_items": null,
            "left": null,
            "margin": null,
            "max_height": null,
            "max_width": null,
            "min_height": null,
            "min_width": null,
            "object_fit": null,
            "object_position": null,
            "order": null,
            "overflow": null,
            "overflow_x": null,
            "overflow_y": null,
            "padding": null,
            "right": null,
            "top": null,
            "visibility": null,
            "width": null
          }
        },
        "8fae7656f5fd48dd806eec86af635b72": {
          "model_module": "@jupyter-widgets/controls",
          "model_module_version": "1.5.0",
          "model_name": "DescriptionStyleModel",
          "state": {
            "_model_module": "@jupyter-widgets/controls",
            "_model_module_version": "1.5.0",
            "_model_name": "DescriptionStyleModel",
            "_view_count": null,
            "_view_module": "@jupyter-widgets/base",
            "_view_module_version": "1.2.0",
            "_view_name": "StyleView",
            "description_width": ""
          }
        },
        "907799010cf14f19880c3886a7a6fb91": {
          "model_module": "@jupyter-widgets/controls",
          "model_module_version": "1.5.0",
          "model_name": "HTMLModel",
          "state": {
            "_dom_classes": [],
            "_model_module": "@jupyter-widgets/controls",
            "_model_module_version": "1.5.0",
            "_model_name": "HTMLModel",
            "_view_count": null,
            "_view_module": "@jupyter-widgets/controls",
            "_view_module_version": "1.5.0",
            "_view_name": "HTMLView",
            "description": "",
            "description_tooltip": null,
            "layout": "IPY_MODEL_a4d48988b7e24114a4621e0b171404c9",
            "placeholder": "​",
            "style": "IPY_MODEL_e3dd4e886eee41dcbfc26f9c06b7015c",
            "value": " 5/5 [00:02&lt;00:00,  1.44s/it]"
          }
        },
        "955055533fda4f64b612935ad88d2177": {
          "model_module": "@jupyter-widgets/controls",
          "model_module_version": "1.5.0",
          "model_name": "HBoxModel",
          "state": {
            "_dom_classes": [],
            "_model_module": "@jupyter-widgets/controls",
            "_model_module_version": "1.5.0",
            "_model_name": "HBoxModel",
            "_view_count": null,
            "_view_module": "@jupyter-widgets/controls",
            "_view_module_version": "1.5.0",
            "_view_name": "HBoxView",
            "box_style": "",
            "children": [
              "IPY_MODEL_6ddaddfbeded44ebb94f1760cff53621",
              "IPY_MODEL_07e932429b914c31af16e2cf716871bc",
              "IPY_MODEL_373e13a6155b40a1a200db9a0d2fe39b"
            ],
            "layout": "IPY_MODEL_0449ddf75f5f428bbb104a9aeeb9d9da"
          }
        },
        "9e1323d796764cd8a8f9f36707efd176": {
          "model_module": "@jupyter-widgets/controls",
          "model_module_version": "1.5.0",
          "model_name": "HBoxModel",
          "state": {
            "_dom_classes": [],
            "_model_module": "@jupyter-widgets/controls",
            "_model_module_version": "1.5.0",
            "_model_name": "HBoxModel",
            "_view_count": null,
            "_view_module": "@jupyter-widgets/controls",
            "_view_module_version": "1.5.0",
            "_view_name": "HBoxView",
            "box_style": "",
            "children": [
              "IPY_MODEL_2f8f88c22f8245d99afdb701ddea809e",
              "IPY_MODEL_1597bfd63c8f480bb634fd6d63b9877a",
              "IPY_MODEL_6b1332ca7da44d4aae5fe3e4248b092d"
            ],
            "layout": "IPY_MODEL_87961a8065644a98bfa08b8481186207"
          }
        },
        "9f18bc551a7d46b6aa102ebcff258deb": {
          "model_module": "@jupyter-widgets/controls",
          "model_module_version": "1.5.0",
          "model_name": "ProgressStyleModel",
          "state": {
            "_model_module": "@jupyter-widgets/controls",
            "_model_module_version": "1.5.0",
            "_model_name": "ProgressStyleModel",
            "_view_count": null,
            "_view_module": "@jupyter-widgets/base",
            "_view_module_version": "1.2.0",
            "_view_name": "StyleView",
            "bar_color": null,
            "description_width": ""
          }
        },
        "a4d48988b7e24114a4621e0b171404c9": {
          "model_module": "@jupyter-widgets/base",
          "model_module_version": "1.2.0",
          "model_name": "LayoutModel",
          "state": {
            "_model_module": "@jupyter-widgets/base",
            "_model_module_version": "1.2.0",
            "_model_name": "LayoutModel",
            "_view_count": null,
            "_view_module": "@jupyter-widgets/base",
            "_view_module_version": "1.2.0",
            "_view_name": "LayoutView",
            "align_content": null,
            "align_items": null,
            "align_self": null,
            "border": null,
            "bottom": null,
            "display": null,
            "flex": null,
            "flex_flow": null,
            "grid_area": null,
            "grid_auto_columns": null,
            "grid_auto_flow": null,
            "grid_auto_rows": null,
            "grid_column": null,
            "grid_gap": null,
            "grid_row": null,
            "grid_template_areas": null,
            "grid_template_columns": null,
            "grid_template_rows": null,
            "height": null,
            "justify_content": null,
            "justify_items": null,
            "left": null,
            "margin": null,
            "max_height": null,
            "max_width": null,
            "min_height": null,
            "min_width": null,
            "object_fit": null,
            "object_position": null,
            "order": null,
            "overflow": null,
            "overflow_x": null,
            "overflow_y": null,
            "padding": null,
            "right": null,
            "top": null,
            "visibility": null,
            "width": null
          }
        },
        "aefe8b83a1fa453496cbb522f0dc6fc2": {
          "model_module": "@jupyter-widgets/controls",
          "model_module_version": "1.5.0",
          "model_name": "HTMLModel",
          "state": {
            "_dom_classes": [],
            "_model_module": "@jupyter-widgets/controls",
            "_model_module_version": "1.5.0",
            "_model_name": "HTMLModel",
            "_view_count": null,
            "_view_module": "@jupyter-widgets/controls",
            "_view_module_version": "1.5.0",
            "_view_name": "HTMLView",
            "description": "",
            "description_tooltip": null,
            "layout": "IPY_MODEL_067c788620914f739ad1265ff5b5c5d7",
            "placeholder": "​",
            "style": "IPY_MODEL_6f157aea63a746e5b2ff906d3e823aa5",
            "value": " 740/740 [00:00&lt;00:00, 5.65kB/s]"
          }
        },
        "afd2cc12e4fd476993ff3db1b41615e5": {
          "model_module": "@jupyter-widgets/controls",
          "model_module_version": "1.5.0",
          "model_name": "FloatProgressModel",
          "state": {
            "_dom_classes": [],
            "_model_module": "@jupyter-widgets/controls",
            "_model_module_version": "1.5.0",
            "_model_name": "FloatProgressModel",
            "_view_count": null,
            "_view_module": "@jupyter-widgets/controls",
            "_view_module_version": "1.5.0",
            "_view_name": "ProgressView",
            "bar_style": "success",
            "description": "",
            "description_tooltip": null,
            "layout": "IPY_MODEL_4880c7df75614c959e7b887326c5b191",
            "max": 5,
            "min": 0,
            "orientation": "horizontal",
            "style": "IPY_MODEL_c610ab1a73cf4f86ac07b43ce90aa9dc",
            "value": 5
          }
        },
        "b1e339c891b24a73b775681046c35e26": {
          "model_module": "@jupyter-widgets/controls",
          "model_module_version": "1.5.0",
          "model_name": "HBoxModel",
          "state": {
            "_dom_classes": [],
            "_model_module": "@jupyter-widgets/controls",
            "_model_module_version": "1.5.0",
            "_model_name": "HBoxModel",
            "_view_count": null,
            "_view_module": "@jupyter-widgets/controls",
            "_view_module_version": "1.5.0",
            "_view_name": "HBoxView",
            "box_style": "",
            "children": [
              "IPY_MODEL_fbecbf892afd4f0a9ee909cb6cba9ec9",
              "IPY_MODEL_06b8ba3f3ea444d9a99edd827ecb5f6f",
              "IPY_MODEL_5317276f76cc4d568adc39c10bfa8f98"
            ],
            "layout": "IPY_MODEL_720dfac202ba4c509dfc8a7a9a5e8f1d"
          }
        },
        "c0ebe9d5fc954502bf384a5e83b73e5b": {
          "model_module": "@jupyter-widgets/controls",
          "model_module_version": "1.5.0",
          "model_name": "DescriptionStyleModel",
          "state": {
            "_model_module": "@jupyter-widgets/controls",
            "_model_module_version": "1.5.0",
            "_model_name": "DescriptionStyleModel",
            "_view_count": null,
            "_view_module": "@jupyter-widgets/base",
            "_view_module_version": "1.2.0",
            "_view_name": "StyleView",
            "description_width": ""
          }
        },
        "c2e0930f54d24fa3bd67df51f197eb3e": {
          "model_module": "@jupyter-widgets/controls",
          "model_module_version": "1.5.0",
          "model_name": "DescriptionStyleModel",
          "state": {
            "_model_module": "@jupyter-widgets/controls",
            "_model_module_version": "1.5.0",
            "_model_name": "DescriptionStyleModel",
            "_view_count": null,
            "_view_module": "@jupyter-widgets/base",
            "_view_module_version": "1.2.0",
            "_view_name": "StyleView",
            "description_width": ""
          }
        },
        "c32d6c6d82a146a0b32584e5ed0bcae8": {
          "model_module": "@jupyter-widgets/controls",
          "model_module_version": "1.5.0",
          "model_name": "HTMLModel",
          "state": {
            "_dom_classes": [],
            "_model_module": "@jupyter-widgets/controls",
            "_model_module_version": "1.5.0",
            "_model_name": "HTMLModel",
            "_view_count": null,
            "_view_module": "@jupyter-widgets/controls",
            "_view_module_version": "1.5.0",
            "_view_name": "HTMLView",
            "description": "",
            "description_tooltip": null,
            "layout": "IPY_MODEL_4a957980b8af4fa2a2c58ad4ef830d2f",
            "placeholder": "​",
            "style": "IPY_MODEL_c0ebe9d5fc954502bf384a5e83b73e5b",
            "value": "config.json: 100%"
          }
        },
        "c59c7533a32b49e8ae417a7ec3690fe5": {
          "model_module": "@jupyter-widgets/controls",
          "model_module_version": "1.5.0",
          "model_name": "FloatProgressModel",
          "state": {
            "_dom_classes": [],
            "_model_module": "@jupyter-widgets/controls",
            "_model_module_version": "1.5.0",
            "_model_name": "FloatProgressModel",
            "_view_count": null,
            "_view_module": "@jupyter-widgets/controls",
            "_view_module_version": "1.5.0",
            "_view_name": "ProgressView",
            "bar_style": "success",
            "description": "",
            "description_tooltip": null,
            "layout": "IPY_MODEL_e4b4fd0edea14352b822befd65c74f89",
            "max": 1242,
            "min": 0,
            "orientation": "horizontal",
            "style": "IPY_MODEL_ee2cc741b01b4f0689300f925fbab904",
            "value": 1242
          }
        },
        "c610ab1a73cf4f86ac07b43ce90aa9dc": {
          "model_module": "@jupyter-widgets/controls",
          "model_module_version": "1.5.0",
          "model_name": "ProgressStyleModel",
          "state": {
            "_model_module": "@jupyter-widgets/controls",
            "_model_module_version": "1.5.0",
            "_model_name": "ProgressStyleModel",
            "_view_count": null,
            "_view_module": "@jupyter-widgets/base",
            "_view_module_version": "1.2.0",
            "_view_name": "StyleView",
            "bar_color": null,
            "description_width": ""
          }
        },
        "cba426ba891443d3bbae64a0b8bc5eee": {
          "model_module": "@jupyter-widgets/controls",
          "model_module_version": "1.5.0",
          "model_name": "ProgressStyleModel",
          "state": {
            "_model_module": "@jupyter-widgets/controls",
            "_model_module_version": "1.5.0",
            "_model_name": "ProgressStyleModel",
            "_view_count": null,
            "_view_module": "@jupyter-widgets/base",
            "_view_module_version": "1.2.0",
            "_view_name": "StyleView",
            "bar_color": null,
            "description_width": ""
          }
        },
        "ce7ad24277c44e03ad4b8f16f210bc2d": {
          "model_module": "@jupyter-widgets/controls",
          "model_module_version": "1.5.0",
          "model_name": "DescriptionStyleModel",
          "state": {
            "_model_module": "@jupyter-widgets/controls",
            "_model_module_version": "1.5.0",
            "_model_name": "DescriptionStyleModel",
            "_view_count": null,
            "_view_module": "@jupyter-widgets/base",
            "_view_module_version": "1.2.0",
            "_view_name": "StyleView",
            "description_width": ""
          }
        },
        "d2c9e035f84a45b9ad0a617ae40d4edb": {
          "model_module": "@jupyter-widgets/controls",
          "model_module_version": "1.5.0",
          "model_name": "HBoxModel",
          "state": {
            "_dom_classes": [],
            "_model_module": "@jupyter-widgets/controls",
            "_model_module_version": "1.5.0",
            "_model_name": "HBoxModel",
            "_view_count": null,
            "_view_module": "@jupyter-widgets/controls",
            "_view_module_version": "1.5.0",
            "_view_name": "HBoxView",
            "box_style": "",
            "children": [
              "IPY_MODEL_c32d6c6d82a146a0b32584e5ed0bcae8",
              "IPY_MODEL_663fa47f6a1b4cda8c0b9fe1f79ce1e7",
              "IPY_MODEL_aefe8b83a1fa453496cbb522f0dc6fc2"
            ],
            "layout": "IPY_MODEL_6749112523564e379c353da1c0a2bc9c"
          }
        },
        "d5fb57994c494b5795e4df131533480f": {
          "model_module": "@jupyter-widgets/base",
          "model_module_version": "1.2.0",
          "model_name": "LayoutModel",
          "state": {
            "_model_module": "@jupyter-widgets/base",
            "_model_module_version": "1.2.0",
            "_model_name": "LayoutModel",
            "_view_count": null,
            "_view_module": "@jupyter-widgets/base",
            "_view_module_version": "1.2.0",
            "_view_name": "LayoutView",
            "align_content": null,
            "align_items": null,
            "align_self": null,
            "border": null,
            "bottom": null,
            "display": null,
            "flex": null,
            "flex_flow": null,
            "grid_area": null,
            "grid_auto_columns": null,
            "grid_auto_flow": null,
            "grid_auto_rows": null,
            "grid_column": null,
            "grid_gap": null,
            "grid_row": null,
            "grid_template_areas": null,
            "grid_template_columns": null,
            "grid_template_rows": null,
            "height": null,
            "justify_content": null,
            "justify_items": null,
            "left": null,
            "margin": null,
            "max_height": null,
            "max_width": null,
            "min_height": null,
            "min_width": null,
            "object_fit": null,
            "object_position": null,
            "order": null,
            "overflow": null,
            "overflow_x": null,
            "overflow_y": null,
            "padding": null,
            "right": null,
            "top": null,
            "visibility": null,
            "width": null
          }
        },
        "dcb80c2deb694ff6b37c40d2022c69e4": {
          "model_module": "@jupyter-widgets/controls",
          "model_module_version": "1.5.0",
          "model_name": "DescriptionStyleModel",
          "state": {
            "_model_module": "@jupyter-widgets/controls",
            "_model_module_version": "1.5.0",
            "_model_name": "DescriptionStyleModel",
            "_view_count": null,
            "_view_module": "@jupyter-widgets/base",
            "_view_module_version": "1.2.0",
            "_view_name": "StyleView",
            "description_width": ""
          }
        },
        "df207be402694bcf84f093c1b060932a": {
          "model_module": "@jupyter-widgets/base",
          "model_module_version": "1.2.0",
          "model_name": "LayoutModel",
          "state": {
            "_model_module": "@jupyter-widgets/base",
            "_model_module_version": "1.2.0",
            "_model_name": "LayoutModel",
            "_view_count": null,
            "_view_module": "@jupyter-widgets/base",
            "_view_module_version": "1.2.0",
            "_view_name": "LayoutView",
            "align_content": null,
            "align_items": null,
            "align_self": null,
            "border": null,
            "bottom": null,
            "display": null,
            "flex": null,
            "flex_flow": null,
            "grid_area": null,
            "grid_auto_columns": null,
            "grid_auto_flow": null,
            "grid_auto_rows": null,
            "grid_column": null,
            "grid_gap": null,
            "grid_row": null,
            "grid_template_areas": null,
            "grid_template_columns": null,
            "grid_template_rows": null,
            "height": null,
            "justify_content": null,
            "justify_items": null,
            "left": null,
            "margin": null,
            "max_height": null,
            "max_width": null,
            "min_height": null,
            "min_width": null,
            "object_fit": null,
            "object_position": null,
            "order": null,
            "overflow": null,
            "overflow_x": null,
            "overflow_y": null,
            "padding": null,
            "right": null,
            "top": null,
            "visibility": null,
            "width": null
          }
        },
        "e3dd4e886eee41dcbfc26f9c06b7015c": {
          "model_module": "@jupyter-widgets/controls",
          "model_module_version": "1.5.0",
          "model_name": "DescriptionStyleModel",
          "state": {
            "_model_module": "@jupyter-widgets/controls",
            "_model_module_version": "1.5.0",
            "_model_name": "DescriptionStyleModel",
            "_view_count": null,
            "_view_module": "@jupyter-widgets/base",
            "_view_module_version": "1.2.0",
            "_view_name": "StyleView",
            "description_width": ""
          }
        },
        "e4b4fd0edea14352b822befd65c74f89": {
          "model_module": "@jupyter-widgets/base",
          "model_module_version": "1.2.0",
          "model_name": "LayoutModel",
          "state": {
            "_model_module": "@jupyter-widgets/base",
            "_model_module_version": "1.2.0",
            "_model_name": "LayoutModel",
            "_view_count": null,
            "_view_module": "@jupyter-widgets/base",
            "_view_module_version": "1.2.0",
            "_view_name": "LayoutView",
            "align_content": null,
            "align_items": null,
            "align_self": null,
            "border": null,
            "bottom": null,
            "display": null,
            "flex": null,
            "flex_flow": null,
            "grid_area": null,
            "grid_auto_columns": null,
            "grid_auto_flow": null,
            "grid_auto_rows": null,
            "grid_column": null,
            "grid_gap": null,
            "grid_row": null,
            "grid_template_areas": null,
            "grid_template_columns": null,
            "grid_template_rows": null,
            "height": null,
            "justify_content": null,
            "justify_items": null,
            "left": null,
            "margin": null,
            "max_height": null,
            "max_width": null,
            "min_height": null,
            "min_width": null,
            "object_fit": null,
            "object_position": null,
            "order": null,
            "overflow": null,
            "overflow_x": null,
            "overflow_y": null,
            "padding": null,
            "right": null,
            "top": null,
            "visibility": null,
            "width": null
          }
        },
        "ea39d173403d4c4a88939dea56b81a11": {
          "model_module": "@jupyter-widgets/controls",
          "model_module_version": "1.5.0",
          "model_name": "HTMLModel",
          "state": {
            "_dom_classes": [],
            "_model_module": "@jupyter-widgets/controls",
            "_model_module_version": "1.5.0",
            "_model_name": "HTMLModel",
            "_view_count": null,
            "_view_module": "@jupyter-widgets/controls",
            "_view_module_version": "1.5.0",
            "_view_name": "HTMLView",
            "description": "",
            "description_tooltip": null,
            "layout": "IPY_MODEL_8a61bb0dd0a1479f803be59ee57f0de8",
            "placeholder": "​",
            "style": "IPY_MODEL_03e8b5b47cd74c528706ba9e5363c09e",
            "value": "tokenizer_config.json: 100%"
          }
        },
        "ee2cc741b01b4f0689300f925fbab904": {
          "model_module": "@jupyter-widgets/controls",
          "model_module_version": "1.5.0",
          "model_name": "ProgressStyleModel",
          "state": {
            "_model_module": "@jupyter-widgets/controls",
            "_model_module_version": "1.5.0",
            "_model_name": "ProgressStyleModel",
            "_view_count": null,
            "_view_module": "@jupyter-widgets/base",
            "_view_module_version": "1.2.0",
            "_view_name": "StyleView",
            "bar_color": null,
            "description_width": ""
          }
        },
        "f314f28ac3e142f0b8336c9bf4c24912": {
          "model_module": "@jupyter-widgets/controls",
          "model_module_version": "1.5.0",
          "model_name": "DescriptionStyleModel",
          "state": {
            "_model_module": "@jupyter-widgets/controls",
            "_model_module_version": "1.5.0",
            "_model_name": "DescriptionStyleModel",
            "_view_count": null,
            "_view_module": "@jupyter-widgets/base",
            "_view_module_version": "1.2.0",
            "_view_name": "StyleView",
            "description_width": ""
          }
        },
        "fbecbf892afd4f0a9ee909cb6cba9ec9": {
          "model_module": "@jupyter-widgets/controls",
          "model_module_version": "1.5.0",
          "model_name": "HTMLModel",
          "state": {
            "_dom_classes": [],
            "_model_module": "@jupyter-widgets/controls",
            "_model_module_version": "1.5.0",
            "_model_name": "HTMLModel",
            "_view_count": null,
            "_view_module": "@jupyter-widgets/controls",
            "_view_module_version": "1.5.0",
            "_view_name": "HTMLView",
            "description": "",
            "description_tooltip": null,
            "layout": "IPY_MODEL_1a37750dd06f40f389523b71fbdff02e",
            "placeholder": "​",
            "style": "IPY_MODEL_8fae7656f5fd48dd806eec86af635b72",
            "value": "special_tokens_map.json: 100%"
          }
        }
      }
    }
  },
  "nbformat": 4,
  "nbformat_minor": 0
}
